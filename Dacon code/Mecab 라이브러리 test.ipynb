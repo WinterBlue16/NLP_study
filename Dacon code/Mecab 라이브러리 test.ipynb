{
 "cells": [
  {
   "cell_type": "code",
   "execution_count": 4,
   "metadata": {},
   "outputs": [
    {
     "name": "stdout",
     "output_type": "stream",
     "text": [
      "형태소 분석기 사용\n",
      "==================\n",
      "['당신', '이', ',', '내', '게', '주', '었', '던', '한', '송이', '꽃', '이', '그랬', '다', '모두', '버렸', '지만', '버린', '것', '이', '그토록', '환한', '빛', '으로', '기억', '될', '수', '있', '는', '것', '인지', '가', '시', '질', '않', '아', '눈', '을', '감', '으면', '눈', '속', '가득', '만발', '하', '는', '꽃', '과', '쏟아지', '는', '눈', '그리고', '당신']\n",
      " \n",
      "명사만 추출\n",
      "==================\n",
      "['당신', '송이', '꽃', '것', '빛', '기억', '수', '것', '눈', '눈', '속', '만발', '꽃', '눈', '당신']\n",
      " \n",
      "품사 태깅하기\n",
      "==================\n",
      "[('당신', 'NP'), ('이', 'JKS'), (',', 'SC'), ('내', 'VV'), ('게', 'EC'), ('주', 'VX'), ('었', 'EP'), ('던', 'ETM'), ('한', 'MM'), ('송이', 'NNG'), ('꽃', 'NNG'), ('이', 'JKS'), ('그랬', 'VV+EP'), ('다', 'EF'), ('모두', 'MAG'), ('버렸', 'VV+EP'), ('지만', 'EC'), ('버린', 'VX+ETM'), ('것', 'NNB'), ('이', 'JKS'), ('그토록', 'MAG'), ('환한', 'VA+ETM'), ('빛', 'NNG'), ('으로', 'JKB'), ('기억', 'NNG'), ('될', 'XSV+ETM'), ('수', 'NNB'), ('있', 'VV'), ('는', 'ETM'), ('것', 'NNB'), ('인지', 'VCP+EC'), ('가', 'VX'), ('시', 'EP'), ('질', 'EC+JX'), ('않', 'VX'), ('아', 'EC'), ('눈', 'NNG'), ('을', 'JKO'), ('감', 'VV'), ('으면', 'EC'), ('눈', 'NNG'), ('속', 'NNG'), ('가득', 'MAG'), ('만발', 'NNG'), ('하', 'XSV'), ('는', 'ETM'), ('꽃', 'NNG'), ('과', 'JKB'), ('쏟아지', 'VV'), ('는', 'ETM'), ('눈', 'NNG'), ('그리고', 'MAJ'), ('당신', 'NP')]\n"
     ]
    }
   ],
   "source": [
    "from konlpy.tag import Mecab\n",
    "\n",
    "mecab=Mecab()\n",
    "sentence=\"당신이, 내게 주었던 한 송이 꽃이 그랬다 모두 버렸지만 버린 것이 그토록 환한 빛으로 기억될 수 있는 것인지 가시질 않아 눈을 감으면 눈 속 가득 만발하는 꽃과 쏟아지는 눈 그리고 당신\"\n",
    "result = mecab.morphs\n",
    "\n",
    "print(\"형태소 분석기 사용\")\n",
    "print(\"==================\")\n",
    "print(mecab.morphs(sentence))\n",
    "print(\" \")\n",
    "print(\"명사만 추출\")\n",
    "print(\"==================\")\n",
    "print(mecab.nouns(sentence))\n",
    "print(\" \")\n",
    "print(\"품사 태깅하기\")\n",
    "print(\"==================\")\n",
    "print(mecab.pos(sentence))"
   ]
  },
  {
   "cell_type": "code",
   "execution_count": null,
   "metadata": {},
   "outputs": [],
   "source": []
  }
 ],
 "metadata": {
  "kernelspec": {
   "display_name": "NLP_ROOM",
   "language": "python",
   "name": "nlp"
  },
  "language_info": {
   "codemirror_mode": {
    "name": "ipython",
    "version": 3
   },
   "file_extension": ".py",
   "mimetype": "text/x-python",
   "name": "python",
   "nbconvert_exporter": "python",
   "pygments_lexer": "ipython3",
   "version": "3.9.1"
  }
 },
 "nbformat": 4,
 "nbformat_minor": 5
}
