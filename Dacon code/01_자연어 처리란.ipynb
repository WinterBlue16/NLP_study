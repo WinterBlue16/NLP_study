{
 "cells": [
  {
   "cell_type": "markdown",
   "metadata": {},
   "source": [
    "> 다음은 DACON 소설 작가 분류 AI 경진대회의 코드 공유란에 공유되었던 NLP 기초 튜토리얼 문서이다. \n",
    "\n",
    "# 튜토리얼 목차\n",
    "## 1. 자연어 처리란? <<\n",
    "    2. NLP Preprocessing \n",
    "    3. Vectorization\n",
    "    4. Embedding\n",
    "    5. Modeling \n",
    "<br>\n",
    "\n",
    "* 다음 튜토리얼부터는 실습 위주로 진행\n",
    "    \n",
    "***"
   ]
  },
  {
   "cell_type": "markdown",
   "metadata": {},
   "source": [
    "## 1. 자연어 처리란? \n",
    "자연어(Natural Language)란 우리가 일상 생활에서 사용하는 언어들을 말한다. 따라서 자연어 처리(Natural Language Processing)란 다음과 같다고 할 수 있다.<br>\n",
    "\n",
    "- 자연어의 의미를 분석하여 컴퓨터로 다양한 문제를 해결하는 것\n",
    "\n",
    "<br>\n",
    "최근 딥러닝이 발전하게 되면서 자연어 처리가 주요 관심사로 떠오르고 있다. 하지만 언어란 것은 한 사회의 문화적/사회적 특성을 담고 있고 매우 정교하게 발전되어 왔기 때문에 컴퓨터가 자연어를 완벽히 이해하기 위해서는 아직 많은 연구가 필요한 분야이다.<br>\n",
    "\n",
    "자연어 처리를 통해 해결할 수 있는 문제들은 다음과 같다. \n",
    "\n",
    "### * 텍스트 분류(Text Classification)\n",
    "\n",
    "\n",
    "### * 감성 분석(Sentimental Analysis)\n",
    "\n",
    "\n",
    "### * 내용 요약(Text Summarization)\n",
    "\n",
    "\n",
    "### * 기계 번역(Machine Translation)\n",
    "\n",
    "\n",
    "### * 챗봇(Chat Bot) "
   ]
  },
  {
   "cell_type": "markdown",
   "metadata": {},
   "source": [
    "## 2. 자연어 처리 과정"
   ]
  },
  {
   "cell_type": "markdown",
   "metadata": {},
   "source": [
    "## 3. 적용(Text Classification)"
   ]
  },
  {
   "cell_type": "code",
   "execution_count": null,
   "metadata": {},
   "outputs": [],
   "source": []
  }
 ],
 "metadata": {
  "kernelspec": {
   "display_name": "Python 3",
   "language": "python",
   "name": "python3"
  },
  "language_info": {
   "codemirror_mode": {
    "name": "ipython",
    "version": 3
   },
   "file_extension": ".py",
   "mimetype": "text/x-python",
   "name": "python",
   "nbconvert_exporter": "python",
   "pygments_lexer": "ipython3",
   "version": "3.7.3"
  }
 },
 "nbformat": 4,
 "nbformat_minor": 2
}
