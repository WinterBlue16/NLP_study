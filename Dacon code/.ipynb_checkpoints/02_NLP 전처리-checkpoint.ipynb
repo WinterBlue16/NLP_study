{
 "cells": [
  {
   "cell_type": "markdown",
   "metadata": {},
   "source": [
    "# 튜토리얼 목차 \n",
    "1. 자연어 처리란? \n",
    "### 2. NLP Preprocessing <<\n",
    "<br>\n",
    "3. Vectorization\n",
    "4. Embedding \n",
    "5. Modeling \n",
    "***\n",
    "\n",
    "## NLP Preprocessing이란?\n",
    "- 자연어 전처리(NLP Preprocessing)는 정해진 정답이 없으며 데이터와 목적에 따라 달라진다. 이 과정은 주로 모델의 입력인 단어, 문장, 문서의 vector를 만들기 전에 진행이 되며, 이번 문서에서는 대부분의 NLP에 널리 쓰이는 방법들을 간단한 코드 예제와 함께 다루어보도록 하자. <br>\n",
    "\n",
    "일반적인 NLP 전처리의 과정을 이번 신문기사 분류 대회에 적용해 보자. \n",
    "\n",
    "1. 데이터를 불러온 후 각 신문기사들을 눈으로 확인하며 특수문자, 불용어 그리고 문장 구조에 대한 감을 잡는다.\n",
    "<img src=\"https://encrypted-tbn0.gstatic.com/images?q=tbn:ANd9GcRB6c5FLCKLBrhqCWAUMuw8wx_YCyoVal5Sgw&usqp=CAU\" width=\"5%\"><br>\n",
    "2. 문제의 목적과 분석가의 재량에 따라 불용어를 설정하고 리스트에 저장한다. 이번 대회에서는 특수 문자와 조사만 제거해도 어느 정도 높은 정확도를 얻을 수 있다. <br>\n",
    "<img src=\"https://encrypted-tbn0.gstatic.com/images?q=tbn:ANd9GcRB6c5FLCKLBrhqCWAUMuw8wx_YCyoVal5Sgw&usqp=CAU\" width=\"5%\"><br>\n",
    "3. 불용어 이외의 모든 특수문자를 제거한다. 이번 대회를 위해 필자는 정규표현식 패키지(re)를 사용하여 한글과 영어 소문자를 제외한 모든 글자를 제거하였다.<br>\n",
    "<img src=\"https://encrypted-tbn0.gstatic.com/images?q=tbn:ANd9GcRB6c5FLCKLBrhqCWAUMuw8wx_YCyoVal5Sgw&usqp=CAU\" width=\"5%\"><br>\n",
    "4. 형태소 분석을 통해 문장을 형태소 단위의 토큰으로 분리한다. 이때 본인이 설정한 불용어들을 결과로 반환해주는 형태소 분석기를 사용해야 한다. 예를 들어 조사를 불용어로 설정하였는데 조사를 분리해주지 못하는 형태소 분석기는 후보에서 제외해야 한다. <br>\n",
    "<img src=\"https://encrypted-tbn0.gstatic.com/images?q=tbn:ANd9GcRB6c5FLCKLBrhqCWAUMuw8wx_YCyoVal5Sgw&usqp=CAU\" width=\"5%\"><br>\n",
    "5. 형태소 단위의 토큰들을 기반으로 리스트에 저장된 불용어들을 제거한다. \n",
    "***"
   ]
  },
  {
   "attachments": {
    "image.png": {
     "image/png": "[encoded data removed]"
    }
   },
   "cell_type": "markdown",
   "metadata": {},
   "source": [
    "## 1. 형태소 분석(Stemming) \n",
    "- 형태소 분석이란 단어나 문장의 언어적 속성을 파악하는 것을 의미한다. 보통 품사의 태깅(PoS, 단어와 품사를 묶어 분류)를 통해 이루어지며 한국어 형태소 분석을 위해 Konlpy 패키지에 있는 다양한 함수를 이용하여 진행할 수 있다.\n",
    "- 형태소 분석을 하는 이유는 주로 **형태소 단위로 의미있는 단어**를 가져가고 싶거나 품사 태깅을 통해 **형용사나 명사를 추출**하고 싶을 때 많이 이용하게 된다.\n",
    "![image.png](attachment:image.png)"
   ]
  },
  {
   "cell_type": "markdown",
   "metadata": {},
   "source": [
    "- 문장을 띄어쓰기 단위로 분류하고 vectorization을 하게 되면 \"데이콘\"이라는 같은 의미의 토큰 세 개가 서로 다른 vector를 갖게 된다. 이렇게 되면 모델이 세 단어를 각각 다른 단어로 이해한다. 하지만 형태소 분석을 통해 \"데이콘\"이라는 토큰을 추출한다면 앞의 세 단어는 동일한 vector를 갖게 되며 해당 토큰을 더 잘 학습하는 데 도움이 된다.\n",
    "- **형태소 분석은 어쩌면 모델링보다 성능에 더 중요한 영향을 미치는 아주 중요한 과정이다.** 시간이 허락된다면 다양한 형태소 분석기를 사용해 결과를 비교하는 것을 추천한다."
   ]
  },
  {
   "cell_type": "markdown",
   "metadata": {},
   "source": [
    "## 1-1. Kkma()"
   ]
  },
  {
   "cell_type": "code",
   "execution_count": 1,
   "metadata": {},
   "outputs": [
    {
     "name": "stdout",
     "output_type": "stream",
     "text": [
      "형태소 단위로 문장 분리\n",
      "=======================\n",
      "['데이', '콘', '에서', '다양', '하', 'ㄴ', '컴피티션', '을', '즐기', '면서', '실력', '있', '는', '데이터', '분석가', '로', '성장', '하', '세요', '!!']\n",
      " \n",
      "문장에서 명사 추출\n",
      "=======================\n",
      "['데이', '데이콘', '콘', '다양', '컴피티션', '실력', '데이터', '분석가', '성장']\n",
      " \n",
      "품사 태깅(PoS)\n",
      "=======================\n",
      "[('데이', 'NNG'), ('콘', 'NNG'), ('에서', 'JKM'), ('다양', 'NNG'), ('하', 'XSV'), ('ㄴ', 'ETD'), ('컴피티션', 'UN'), ('을', 'JKO'), ('즐기', 'VV'), ('면서', 'ECE'), ('실력', 'NNG'), ('있', 'VV'), ('는', 'ETD'), ('데이터', 'NNG'), ('분석가', 'NNG'), ('로', 'JKM'), ('성장', 'NNG'), ('하', 'XSV'), ('세요', 'EFN'), ('!!', 'SW')]\n"
     ]
    }
   ],
   "source": [
    "from konlpy.tag import Kkma\n",
    "kkma=Kkma()\n",
    "\n",
    "sentence = \"데이콘에서 다양한 컴피티션을 즐기면서 실력있는 데이터 분석가로 성장하세요!!\"\n",
    "\n",
    "print('형태소 단위로 문장 분리')\n",
    "print('=======================')\n",
    "print(kkma.morphs(sentence))\n",
    "print(\" \")\n",
    "print('문장에서 명사 추출')\n",
    "print('=======================')\n",
    "print(kkma.nouns(sentence))\n",
    "print(\" \")\n",
    "print('품사 태깅(PoS)')\n",
    "print('=======================')\n",
    "print(kkma.pos(sentence))"
   ]
  },
  {
   "cell_type": "code",
   "execution_count": 2,
   "metadata": {},
   "outputs": [
    {
     "name": "stdout",
     "output_type": "stream",
     "text": [
      "형태소 단위로 문장 분리\n",
      "=======================\n",
      "['너', '를', '보', 'ㄴ', '순간', '물고기', '가', '뛰', '고', '장미', '가', '피', '고', '너', '를', '보', 'ㄴ', '순간', '아무것', '도', '보이', '지', '않', '았', '다', '너', '를', '보', 'ㄴ', '순간', '그동안', '살아오', 'ㄴ', '인생', '이', '갑자기', '걸레', '이', '었', '고', '갑자기', '시커멓', 'ㄴ', '밤', '이', '었', '고', '너', '는', '하이얗', 'ㄴ', '대낮', '이', '었', '다']\n",
      " \n",
      "문장에서 명사 추출\n",
      "=======================\n",
      "['너', '순간', '물고기', '장미', '아무것', '그동안', '인생', '걸레', '밤', '대낮']\n",
      " \n",
      "품사 태깅(PoS)\n",
      "=======================\n",
      "[('너', 'NP'), ('를', 'JKO'), ('보', 'VV'), ('ㄴ', 'ETD'), ('순간', 'NNG'), ('물고기', 'NNG'), ('가', 'JKS'), ('뛰', 'VV'), ('고', 'ECE'), ('장미', 'NNG'), ('가', 'JKS'), ('피', 'VV'), ('고', 'ECE'), ('너', 'NP'), ('를', 'JKO'), ('보', 'VV'), ('ㄴ', 'ETD'), ('순간', 'NNG'), ('아무것', 'NNG'), ('도', 'JX'), ('보이', 'VV'), ('지', 'ECD'), ('않', 'VXV'), ('았', 'EPT'), ('다', 'EFN'), ('너', 'NP'), ('를', 'JKO'), ('보', 'VV'), ('ㄴ', 'ETD'), ('순간', 'NNG'), ('그동안', 'NNG'), ('살아오', 'VV'), ('ㄴ', 'ETD'), ('인생', 'NNG'), ('이', 'JKS'), ('갑자기', 'MAG'), ('걸레', 'NNG'), ('이', 'VCP'), ('었', 'EPT'), ('고', 'ECE'), ('갑자기', 'MAG'), ('시커멓', 'VA'), ('ㄴ', 'ETD'), ('밤', 'NNG'), ('이', 'VCP'), ('었', 'EPT'), ('고', 'ECE'), ('너', 'NP'), ('는', 'JX'), ('하이얗', 'VA'), ('ㄴ', 'ETD'), ('대낮', 'NNG'), ('이', 'VCP'), ('었', 'EPT'), ('다', 'EFN')]\n"
     ]
    }
   ],
   "source": [
    "sentence2 = \"너를 본 순간 물고기가 뛰고 장미가 피고 너를 본 순간 아무것도 보이지 않았다 너를 본 순간 그동안 살아온 인생이 갑자기 걸레였고 갑자기 시커먼 밤이었고 너는 하이얀 대낮이었다\"\n",
    "\n",
    "print('형태소 단위로 문장 분리')\n",
    "print('=======================')\n",
    "print(kkma.morphs(sentence2))\n",
    "print(\" \")\n",
    "print('문장에서 명사 추출')\n",
    "print('=======================')\n",
    "print(kkma.nouns(sentence2))\n",
    "print(\" \")\n",
    "print('품사 태깅(PoS)')\n",
    "print('=======================')\n",
    "print(kkma.pos(sentence2))"
   ]
  },
  {
   "cell_type": "markdown",
   "metadata": {},
   "source": [
    "## 1-2. Okt()"
   ]
  },
  {
   "cell_type": "code",
   "execution_count": 4,
   "metadata": {},
   "outputs": [
    {
     "name": "stdout",
     "output_type": "stream",
     "text": [
      "형태소 단위로 문장 분리\n",
      "=======================\n",
      "['데', '이콘', '에서', '다양한', '컴피티션', '을', '즐기면서', '실력', '있는', '데이터', '분석', '가로', '성장하세요', '!!']\n",
      " \n",
      "문장에서 명사 추출\n",
      "=======================\n",
      "['데', '이콘', '컴피티션', '실력', '데이터', '분석', '가로']\n",
      " \n",
      "품사 태깅(PoS)\n",
      "=======================\n",
      "[('데', 'Noun'), ('이콘', 'Noun'), ('에서', 'Josa'), ('다양한', 'Adjective'), ('컴피티션', 'Noun'), ('을', 'Josa'), ('즐기면서', 'Verb'), ('실력', 'Noun'), ('있는', 'Adjective'), ('데이터', 'Noun'), ('분석', 'Noun'), ('가로', 'Noun'), ('성장하세요', 'Adjective'), ('!!', 'Punctuation')]\n"
     ]
    }
   ],
   "source": [
    "from konlpy.tag import Okt\n",
    "okt = Okt()\n",
    "\n",
    "sentence = \"데이콘에서 다양한 컴피티션을 즐기면서 실력있는 데이터 분석가로 성장하세요!!\"\n",
    "\n",
    "print('형태소 단위로 문장 분리')\n",
    "print('=======================')\n",
    "print(okt.morphs(sentence))\n",
    "print(\" \")\n",
    "print('문장에서 명사 추출')\n",
    "print('=======================')\n",
    "print(okt.nouns(sentence))\n",
    "print(\" \")\n",
    "print('품사 태깅(PoS)')\n",
    "print('=======================')\n",
    "print(okt.pos(sentence))"
   ]
  },
  {
   "cell_type": "code",
   "execution_count": 4,
   "metadata": {},
   "outputs": [
    {
     "name": "stdout",
     "output_type": "stream",
     "text": [
      "형태소 단위로 문장 분리\n",
      "=======================\n",
      "['너', '를', '본', '순간', '물고기', '가', '뛰고', '장미', '가', '피고', '너', '를', '본', '순간', '아무', '것', '도', '보이지', '않았다', '너', '를', '본', '순간', '그동안', '살아온', '인생', '이', '갑자기', '걸레', '였고', '갑자기', '시커먼', '밤', '이었고', '너', '는', '하이', '얀', '대낮', '이었다']\n",
      " \n",
      "문장에서 명사 추출\n",
      "=======================\n",
      "['너', '순간', '물고기', '장미', '피고', '너', '순간', '것', '보이지', '너', '순간', '그동안', '인생', '갑자기', '걸레', '갑자기', '밤', '너', '하이', '얀', '대낮']\n",
      " \n",
      "품사 태깅(PoS)\n",
      "=======================\n",
      "[('너', 'Noun'), ('를', 'Josa'), ('본', 'Verb'), ('순간', 'Noun'), ('물고기', 'Noun'), ('가', 'Josa'), ('뛰고', 'Verb'), ('장미', 'Noun'), ('가', 'Josa'), ('피고', 'Noun'), ('너', 'Noun'), ('를', 'Josa'), ('본', 'Verb'), ('순간', 'Noun'), ('아무', 'Modifier'), ('것', 'Noun'), ('도', 'Josa'), ('보이지', 'Noun'), ('않았다', 'Verb'), ('너', 'Noun'), ('를', 'Josa'), ('본', 'Verb'), ('순간', 'Noun'), ('그동안', 'Noun'), ('살아온', 'Verb'), ('인생', 'Noun'), ('이', 'Josa'), ('갑자기', 'Noun'), ('걸레', 'Noun'), ('였고', 'Verb'), ('갑자기', 'Noun'), ('시커먼', 'Adjective'), ('밤', 'Noun'), ('이었고', 'Verb'), ('너', 'Noun'), ('는', 'Josa'), ('하이', 'Noun'), ('얀', 'Noun'), ('대낮', 'Noun'), ('이었다', 'Verb')]\n"
     ]
    }
   ],
   "source": [
    "sentence2 = \"너를 본 순간 물고기가 뛰고 장미가 피고 너를 본 순간 아무것도 보이지 않았다 너를 본 순간 그동안 살아온 인생이 갑자기 걸레였고 갑자기 시커먼 밤이었고 너는 하이얀 대낮이었다\"\n",
    "\n",
    "print('형태소 단위로 문장 분리')\n",
    "print('=======================')\n",
    "print(okt.morphs(sentence2))\n",
    "print(\" \")\n",
    "print('문장에서 명사 추출')\n",
    "print('=======================')\n",
    "print(okt.nouns(sentence2))\n",
    "print(\" \")\n",
    "print('품사 태깅(PoS)')\n",
    "print('=======================')\n",
    "print(okt.pos(sentence2))"
   ]
  },
  {
   "cell_type": "markdown",
   "metadata": {},
   "source": [
    "## 1-3. Mecab()\n",
    "이 클래스는 windows에서는 지원되지 않는다. "
   ]
  },
  {
   "cell_type": "code",
   "execution_count": 5,
   "metadata": {},
   "outputs": [],
   "source": [
    "# from konlpy.tag import Mecab\n",
    "# mecab = Mecab()\n",
    "\n",
    "# sentence = \"데이콘에서 다양한 컴피티션을 즐기면서 실력있는 데이터 분석가로 성장하세요!!\"\n",
    "\n",
    "# print('형태소 단위로 문장 분리')\n",
    "# print('=======================')\n",
    "# print(mecab.morphs(sentence))\n",
    "# print(\" \")\n",
    "# print('문장에서 명사 추출')\n",
    "# print('=======================')\n",
    "# print(mecab.nouns(sentence))\n",
    "# print(\" \")\n",
    "# print('품사 태깅(PoS)')\n",
    "# print('=======================')\n",
    "# print(mecab.pos(sentence))"
   ]
  },
  {
   "cell_type": "markdown",
   "metadata": {},
   "source": [
    "## 1-4. Twiter()"
   ]
  },
  {
   "cell_type": "code",
   "execution_count": 6,
   "metadata": {},
   "outputs": [
    {
     "name": "stdout",
     "output_type": "stream",
     "text": [
      "형태소 단위로 문장 분리\n",
      "=======================\n",
      "['데', '이콘', '에서', '다양한', '컴피티션', '을', '즐기면서', '실력', '있는', '데이터', '분석', '가로', '성장하세요', '!!']\n",
      " \n",
      "문장에서 명사 추출\n",
      "=======================\n",
      "['데', '이콘', '컴피티션', '실력', '데이터', '분석', '가로']\n",
      " \n",
      "품사 태깅(PoS)\n",
      "=======================\n",
      "[('데', 'Noun'), ('이콘', 'Noun'), ('에서', 'Josa'), ('다양한', 'Adjective'), ('컴피티션', 'Noun'), ('을', 'Josa'), ('즐기면서', 'Verb'), ('실력', 'Noun'), ('있는', 'Adjective'), ('데이터', 'Noun'), ('분석', 'Noun'), ('가로', 'Noun'), ('성장하세요', 'Adjective'), ('!!', 'Punctuation')]\n"
     ]
    },
    {
     "name": "stderr",
     "output_type": "stream",
     "text": [
      "C:\\Users\\CUCHO\\Anaconda3\\lib\\site-packages\\konlpy\\tag\\_okt.py:16: UserWarning: \"Twitter\" has changed to \"Okt\" since KoNLPy v0.4.5.\n",
      "  warn('\"Twitter\" has changed to \"Okt\" since KoNLPy v0.4.5.')\n"
     ]
    }
   ],
   "source": [
    "from konlpy.tag import Twitter\n",
    "twitter = Twitter()\n",
    "\n",
    "print('형태소 단위로 문장 분리')\n",
    "print('=======================')\n",
    "print(twitter.morphs(sentence))\n",
    "print(\" \")\n",
    "print('문장에서 명사 추출')\n",
    "print('=======================')\n",
    "print(twitter.nouns(sentence))\n",
    "print(\" \")\n",
    "print('품사 태깅(PoS)')\n",
    "print('=======================')\n",
    "print(twitter.pos(sentence))"
   ]
  },
  {
   "cell_type": "code",
   "execution_count": 7,
   "metadata": {},
   "outputs": [
    {
     "name": "stdout",
     "output_type": "stream",
     "text": [
      "형태소 단위로 문장 분리\n",
      "=======================\n",
      "['너', '를', '본', '순간', '물고기', '가', '뛰고', '장미', '가', '피고', '너', '를', '본', '순간', '아무', '것', '도', '보이지', '않았다', '너', '를', '본', '순간', '그동안', '살아온', '인생', '이', '갑자기', '걸레', '였고', '갑자기', '시커먼', '밤', '이었고', '너', '는', '하이', '얀', '대낮', '이었다']\n",
      " \n",
      "문장에서 명사 추출\n",
      "=======================\n",
      "['너', '순간', '물고기', '장미', '피고', '너', '순간', '것', '보이지', '너', '순간', '그동안', '인생', '갑자기', '걸레', '갑자기', '밤', '너', '하이', '얀', '대낮']\n",
      " \n",
      "품사 태깅(PoS)\n",
      "=======================\n",
      "[('너', 'Noun'), ('를', 'Josa'), ('본', 'Verb'), ('순간', 'Noun'), ('물고기', 'Noun'), ('가', 'Josa'), ('뛰고', 'Verb'), ('장미', 'Noun'), ('가', 'Josa'), ('피고', 'Noun'), ('너', 'Noun'), ('를', 'Josa'), ('본', 'Verb'), ('순간', 'Noun'), ('아무', 'Modifier'), ('것', 'Noun'), ('도', 'Josa'), ('보이지', 'Noun'), ('않았다', 'Verb'), ('너', 'Noun'), ('를', 'Josa'), ('본', 'Verb'), ('순간', 'Noun'), ('그동안', 'Noun'), ('살아온', 'Verb'), ('인생', 'Noun'), ('이', 'Josa'), ('갑자기', 'Noun'), ('걸레', 'Noun'), ('였고', 'Verb'), ('갑자기', 'Noun'), ('시커먼', 'Adjective'), ('밤', 'Noun'), ('이었고', 'Verb'), ('너', 'Noun'), ('는', 'Josa'), ('하이', 'Noun'), ('얀', 'Noun'), ('대낮', 'Noun'), ('이었다', 'Verb')]\n"
     ]
    }
   ],
   "source": [
    "sentence2 = \"너를 본 순간 물고기가 뛰고 장미가 피고 너를 본 순간 아무것도 보이지 않았다 너를 본 순간 그동안 살아온 인생이 갑자기 걸레였고 갑자기 시커먼 밤이었고 너는 하이얀 대낮이었다\"\n",
    "\n",
    "print('형태소 단위로 문장 분리')\n",
    "print('=======================')\n",
    "print(twitter.morphs(sentence2))\n",
    "print(\" \")\n",
    "print('문장에서 명사 추출')\n",
    "print('=======================')\n",
    "print(twitter.nouns(sentence2))\n",
    "print(\" \")\n",
    "print('품사 태깅(PoS)')\n",
    "print('=======================')\n",
    "print(twitter.pos(sentence2))"
   ]
  },
  {
   "cell_type": "markdown",
   "metadata": {},
   "source": [
    "## 1-5. Komoran"
   ]
  },
  {
   "cell_type": "code",
   "execution_count": 8,
   "metadata": {},
   "outputs": [
    {
     "name": "stdout",
     "output_type": "stream",
     "text": [
      "형태소 단위로 문장 분리\n",
      "=======================\n",
      "['데', '이콘', '에서', '다양', '하', 'ㄴ', '컴', '피', '티', '션', '을', '즐기', '면서', '실력', '있', '는', '데이터', '분석가', '로', '성장', '하', '시', '어요', '!', '!']\n",
      " \n",
      "문장에서 명사 추출\n",
      "=======================\n",
      "['데', '이콘', '컴', '피', '티', '션', '실력', '데이터', '분석가', '성장']\n",
      " \n",
      "품사 태깅(PoS)\n",
      "=======================\n",
      "[('데', 'NNB'), ('이콘', 'NNP'), ('에서', 'JKB'), ('다양', 'XR'), ('하', 'XSA'), ('ㄴ', 'ETM'), ('컴', 'NNG'), ('피', 'NNG'), ('티', 'NNG'), ('션', 'NNG'), ('을', 'JKO'), ('즐기', 'VV'), ('면서', 'EC'), ('실력', 'NNG'), ('있', 'VV'), ('는', 'ETM'), ('데이터', 'NNG'), ('분석가', 'NNG'), ('로', 'JKB'), ('성장', 'NNG'), ('하', 'XSV'), ('시', 'EP'), ('어요', 'EF'), ('!', 'SF'), ('!', 'SF')]\n"
     ]
    }
   ],
   "source": [
    "from konlpy.tag import Komoran\n",
    "komoran= Komoran()\n",
    "\n",
    "sentence = \"데이콘에서 다양한 컴피티션을 즐기면서 실력있는 데이터 분석가로 성장하세요!!\"\n",
    "\n",
    "print('형태소 단위로 문장 분리')\n",
    "print('=======================')\n",
    "print(komoran.morphs(sentence))\n",
    "print(\" \")\n",
    "print('문장에서 명사 추출')\n",
    "print('=======================')\n",
    "print(komoran.nouns(sentence))\n",
    "print(\" \")\n",
    "print('품사 태깅(PoS)')\n",
    "print('=======================')\n",
    "print(komoran.pos(sentence))"
   ]
  },
  {
   "cell_type": "code",
   "execution_count": 9,
   "metadata": {},
   "outputs": [
    {
     "name": "stdout",
     "output_type": "stream",
     "text": [
      "형태소 단위로 문장 분리\n",
      "=======================\n",
      "['너', '를', '보', 'ㄴ', '순간', '물고기', '가', '뛰', '고', '장미', '가', '피고', '너', '를', '보', 'ㄴ', '순간', '아무것', '도', '보이', '지', '않', '았', '다', '너', '를', '보', 'ㄴ', '순간', '그동안', '살아오', 'ㄴ', '인생', '이', '갑자기', '걸레', '이', '었', '고', '갑자기', '시커멓', 'ㄴ', '밤', '이', '었', '고', '너', '는', '하', '이', '아야', '하', 'ㄴ', '대낮', '이', '었', '다']\n",
      " \n",
      "문장에서 명사 추출\n",
      "=======================\n",
      "['순간', '물고기', '장미', '피고', '순간', '아무것', '순간', '그동안', '인생', '걸레', '밤', '하', '대낮']\n",
      " \n",
      "품사 태깅(PoS)\n",
      "=======================\n",
      "[('너', 'NP'), ('를', 'JKO'), ('보', 'VV'), ('ㄴ', 'ETM'), ('순간', 'NNG'), ('물고기', 'NNP'), ('가', 'JKS'), ('뛰', 'VV'), ('고', 'EC'), ('장미', 'NNP'), ('가', 'JKS'), ('피고', 'NNP'), ('너', 'NP'), ('를', 'JKO'), ('보', 'VV'), ('ㄴ', 'ETM'), ('순간', 'NNG'), ('아무것', 'NNG'), ('도', 'JX'), ('보이', 'VV'), ('지', 'EC'), ('않', 'VX'), ('았', 'EP'), ('다', 'EC'), ('너', 'NP'), ('를', 'JKO'), ('보', 'VV'), ('ㄴ', 'ETM'), ('순간', 'NNG'), ('그동안', 'NNG'), ('살아오', 'VV'), ('ㄴ', 'ETM'), ('인생', 'NNG'), ('이', 'JKS'), ('갑자기', 'MAG'), ('걸레', 'NNP'), ('이', 'VCP'), ('었', 'EP'), ('고', 'EC'), ('갑자기', 'MAG'), ('시커멓', 'VA'), ('ㄴ', 'ETM'), ('밤', 'NNG'), ('이', 'VCP'), ('었', 'EP'), ('고', 'EC'), ('너', 'NP'), ('는', 'JX'), ('하', 'NNG'), ('이', 'VCP'), ('아야', 'EC'), ('하', 'VX'), ('ㄴ', 'ETM'), ('대낮', 'NNG'), ('이', 'VCP'), ('었', 'EP'), ('다', 'EC')]\n"
     ]
    }
   ],
   "source": [
    "sentence2 = \"너를 본 순간 물고기가 뛰고 장미가 피고 너를 본 순간 아무것도 보이지 않았다 너를 본 순간 그동안 살아온 인생이 갑자기 걸레였고 갑자기 시커먼 밤이었고 너는 하이얀 대낮이었다\"\n",
    "\n",
    "print('형태소 단위로 문장 분리')\n",
    "print('=======================')\n",
    "print(komoran.morphs(sentence2))\n",
    "print(\" \")\n",
    "print('문장에서 명사 추출')\n",
    "print('=======================')\n",
    "print(komoran.nouns(sentence2))\n",
    "print(\" \")\n",
    "print('품사 태깅(PoS)')\n",
    "print('=======================')\n",
    "print(komoran.pos(sentence2))"
   ]
  },
  {
   "cell_type": "markdown",
   "metadata": {},
   "source": [
    "## 1-6. Hannanum"
   ]
  },
  {
   "cell_type": "code",
   "execution_count": 10,
   "metadata": {},
   "outputs": [
    {
     "name": "stdout",
     "output_type": "stream",
     "text": [
      "형태소 단위로 문장 분리\n",
      "=======================\n",
      "['데이콘', '에서', '다양', '하', 'ㄴ', '컴피티션', '을', '즐기', '면서', '실력', '있', '는', '데이터', '분석가', '로', '성장', '하', '세', '요', '!!']\n",
      " \n",
      "문장에서 명사 추출\n",
      "=======================\n",
      "['데이콘', '다양', '컴피티션', '실력', '데이터', '분석가', '성장']\n",
      " \n",
      "품사 태깅(PoS)\n",
      "=======================\n",
      "[('데이콘', 'N'), ('에서', 'J'), ('다양', 'N'), ('하', 'X'), ('ㄴ', 'E'), ('컴피티션', 'N'), ('을', 'J'), ('즐기', 'P'), ('면서', 'E'), ('실력', 'N'), ('있', 'X'), ('는', 'E'), ('데이터', 'N'), ('분석가', 'N'), ('로', 'J'), ('성장', 'N'), ('하', 'X'), ('세', 'E'), ('요', 'J'), ('!!', 'S')]\n"
     ]
    }
   ],
   "source": [
    "from konlpy.tag import Hannanum\n",
    "hannanum = Hannanum()\n",
    "\n",
    "sentence = \"데이콘에서 다양한 컴피티션을 즐기면서 실력있는 데이터 분석가로 성장하세요!!\"\n",
    "\n",
    "print('형태소 단위로 문장 분리')\n",
    "print('=======================')\n",
    "print(hannanum.morphs(sentence))\n",
    "print(\" \")\n",
    "print('문장에서 명사 추출')\n",
    "print('=======================')\n",
    "print(hannanum.nouns(sentence))\n",
    "print(\" \")\n",
    "print('품사 태깅(PoS)')\n",
    "print('=======================')\n",
    "print(hannanum.pos(sentence))"
   ]
  },
  {
   "cell_type": "code",
   "execution_count": 11,
   "metadata": {},
   "outputs": [
    {
     "name": "stdout",
     "output_type": "stream",
     "text": [
      "형태소 단위로 문장 분리\n",
      "=======================\n",
      "['너', '를', '보', 'ㄴ', '순간', '물고기', '가', '뛰', '고', '장미', '가', '피', '고', '너', '를', '보', 'ㄴ', '순간', '아무것', '도', '보이', '지', '않', '아다', '너', '를', '보', 'ㄴ', '순간', '그동안', '살', '아', '오', 'ㄴ', '인생', '이', '갑자기', '걸레', '이', '었고', '갑자기', '시커먼', '밤', '이', '었고', '너', '는', '하이얀', '대낮', '이', '었다']\n",
      " \n",
      "문장에서 명사 추출\n",
      "=======================\n",
      "['너', '순간', '물고기', '장미', '너', '순간', '아무것', '너', '순간', '그동안', '인생', '걸레', '시커먼', '밤', '너', '하이얀', '대낮']\n",
      " \n",
      "품사 태깅(PoS)\n",
      "=======================\n",
      "[('너', 'N'), ('를', 'J'), ('보', 'P'), ('ㄴ', 'E'), ('순간', 'N'), ('물고기', 'N'), ('가', 'J'), ('뛰', 'P'), ('고', 'E'), ('장미', 'N'), ('가', 'J'), ('피', 'P'), ('고', 'E'), ('너', 'N'), ('를', 'J'), ('보', 'P'), ('ㄴ', 'E'), ('순간', 'N'), ('아무것', 'N'), ('도', 'J'), ('보이', 'P'), ('지', 'E'), ('않', 'P'), ('아다', 'E'), ('너', 'N'), ('를', 'J'), ('보', 'P'), ('ㄴ', 'E'), ('순간', 'N'), ('그동안', 'N'), ('살', 'P'), ('아', 'E'), ('오', 'P'), ('ㄴ', 'E'), ('인생', 'N'), ('이', 'J'), ('갑자기', 'M'), ('걸레', 'N'), ('이', 'J'), ('었고', 'E'), ('갑자기', 'M'), ('시커먼', 'N'), ('밤', 'N'), ('이', 'J'), ('었고', 'E'), ('너', 'N'), ('는', 'J'), ('하이얀', 'N'), ('대낮', 'N'), ('이', 'J'), ('었다', 'E')]\n"
     ]
    }
   ],
   "source": [
    "sentence2 = \"너를 본 순간 물고기가 뛰고 장미가 피고 너를 본 순간 아무것도 보이지 않았다 너를 본 순간 그동안 살아온 인생이 갑자기 걸레였고 갑자기 시커먼 밤이었고 너는 하이얀 대낮이었다\"\n",
    "\n",
    "print('형태소 단위로 문장 분리')\n",
    "print('=======================')\n",
    "print(hannanum.morphs(sentence2))\n",
    "print(\" \")\n",
    "print('문장에서 명사 추출')\n",
    "print('=======================')\n",
    "print(hannanum.nouns(sentence2))\n",
    "print(\" \")\n",
    "print('품사 태깅(PoS)')\n",
    "print('=======================')\n",
    "print(hannanum.pos(sentence2))"
   ]
  },
  {
   "cell_type": "markdown",
   "metadata": {},
   "source": [
    "이 외에도 여러 형태소 분석기 중 발군의 속도를 자랑하는 Mecab과 최근 카카오에서 공개한 형태소 분석기 khaii가 있다. 대표적인 형태소 분석기 몇 개의 특징을 꼽아보면 다음과 같다. <br>\n",
    "\n",
    "- Mecab : 굉장히 속도가 빠르며 좋은 분석 결과를 보여준다.\n",
    "- Komoran : 댓글과 같이 정제되지 않은 글에 대해서 먼저 사용해보면 좋은 편이다.(오탈자를 어느 정도 고려해준다.)\n",
    "- Kkma : 분석 시간이 오래 걸리기 때문에 선호되지 않는다. \n",
    "- Okt : 품사 태깅 결과를 알아보기 쉽게 반환해주어 편리하다.\n",
    "- khaiii : 최근에 공개된 분석기로 성능이 좋다고 알려져 있으며 다양한 실험이 필요하다. \n",
    "***"
   ]
  },
  {
   "cell_type": "markdown",
   "metadata": {},
   "source": [
    "## 2. 표제어 추출(Lemmatization) \n",
    "- 언어학을 전공하지 않은 사람에게 표제어 추출(Lemmatization)과 형태소 분석(Stemming)은 큰 차이가 없다고 생각한다. 모두 단어의 본 모습을 찾아주는 과정으로서 Konlpy에서 공개한 형태소 분석기들을 이용하면 어느 정도 어간 추출이 가능하다. 형태소 분석(Pos Tagging)을 stemming이라고 표기한 이유도 이와 같다. \n",
    "- 다음 예시를 보자."
   ]
  },
  {
   "cell_type": "code",
   "execution_count": 1,
   "metadata": {},
   "outputs": [
    {
     "name": "stdout",
     "output_type": "stream",
     "text": [
      "품사 태깅(PoS)\n",
      "===============\n",
      "[('성장', 'NNG'), ('하', 'XSV'), ('었', 'EPT'), ('었', 'EPT'), ('다', 'EFN'), ('.', 'SF')]\n"
     ]
    }
   ],
   "source": [
    "from konlpy.tag import Kkma\n",
    "kkma = Kkma()\n",
    "\n",
    "sentence = \"성장했었다.\"\n",
    "\n",
    "print(\"품사 태깅(PoS)\")\n",
    "print(\"===============\")\n",
    "print(kkma.pos(sentence))"
   ]
  },
  {
   "cell_type": "code",
   "execution_count": 2,
   "metadata": {},
   "outputs": [
    {
     "name": "stdout",
     "output_type": "stream",
     "text": [
      "품사 태깅(PoS)\n",
      "===============\n",
      "[('성장', 'NNG'), ('하', 'XSV'), ('였', 'EPT'), ('었', 'EPT'), ('다', 'EFN'), ('.', 'SF')]\n"
     ]
    }
   ],
   "source": [
    "sentence = \"성장하였었다.\"\n",
    "\n",
    "print(\"품사 태깅(PoS)\")\n",
    "print(\"===============\")\n",
    "print(kkma.pos(sentence))"
   ]
  },
  {
   "cell_type": "markdown",
   "metadata": {},
   "source": [
    "NLP에 대해 처음 공부할 때는 형태소, 어간, 어미 등 언어학에 대한 이해가 가장 어려운 부분일 수 있다. 이번 튜토리얼에서는 이러한 부분을 상당수 제거하고 코드 위주로 구성하였다. "
   ]
  },
  {
   "cell_type": "markdown",
   "metadata": {},
   "source": [
    "## 3. 불용어 제거(Stopwords removing)\n",
    "- 불용어를 간단히 정의하면 **문장에서 큰 의미가 없다고 생각되는 단어, 글자들**이다. 불용어는 데이터와 문제에 따라 유동적이다. 다음 예시를 보자. \n",
    "\n",
    "예시: \"이번에 새롭게 개봉한 영화의 배우들은 모두 훌륭한 연기력과 아름다운 목소리를 갖고 있어!!\"\n",
    "\n",
    "- 예시 문장에서 감성분석을 진행할 때는 \"훌륭한\", \"아름다운\" 등이 주요 특징으로 사용될 것이다. 하지만 경우에 따라서는 이러한 형용사들을 제외한 배우들의 연기력과 목소리라는 정보에 집중해야 할 때가 있다. 이럴 때 \"훌륭한\", \"아름다운\" 등의 형용사는 불용어로 정의될 수 있다. "
   ]
  },
  {
   "cell_type": "code",
   "execution_count": 5,
   "metadata": {},
   "outputs": [],
   "source": [
    "import re\n",
    "tokenizer = Okt()\n",
    "def text_preprocessing(text, tokenizer):\n",
    "    stopwords=['을', '를', '이', '가', '은', '는']\n",
    "    \n",
    "    txt = re.sub('[^가-힣a-z]', ' ', text)\n",
    "    token = tokenizer.morphs(txt)\n",
    "    token = [t for t in token if t not in stopwords]\n",
    "    \n",
    "    return token\n",
    "\n",
    "ex_text = \"이번에 새롭게 개봉한 영화의 배우들은 모두 훌륭한 연기력과 아름다운 목소리를 갖고 있어!!\"\n",
    "example_pre = text_preprocessing(ex_text, tokenizer)"
   ]
  },
  {
   "cell_type": "markdown",
   "metadata": {},
   "source": [
    "위 코드의 설명이다. \n",
    "\n",
    "1. 영어 소문자와 한글을 제외한 모든 문자를 제거\n",
    "2. Okt를 이용해 형태소 분석\n",
    "3. 형태소 분석기를 거쳐 나온 결과들 중 stopwords 리스트에 포함되지 않는 토큰만 token이라는 리스트에 반환\n",
    "\n",
    "결과는 다음과 같다."
   ]
  },
  {
   "cell_type": "code",
   "execution_count": 6,
   "metadata": {},
   "outputs": [
    {
     "name": "stdout",
     "output_type": "stream",
     "text": [
      "['이번', '에', '새롭게', '개봉', '한', '영화', '의', '배우', '들', '모두', '훌륭한', '연기력', '과', '아름다운', '목소리', '갖고', '있어']\n"
     ]
    }
   ],
   "source": [
    "print(example_pre)"
   ]
  },
  {
   "cell_type": "markdown",
   "metadata": {},
   "source": [
    "## 4. 대회 적용"
   ]
  },
  {
   "cell_type": "markdown",
   "metadata": {},
   "source": [
    "아래 코드는 이번 대회에 바로 적용 가능한 전처리 코드이다. 이 코드만 이해하고 사용해도 꽤 높은 수준의 정확도를 얻을 수 있다. "
   ]
  },
  {
   "cell_type": "code",
   "execution_count": 7,
   "metadata": {},
   "outputs": [],
   "source": [
    "def text_preprocessing(text_list):\n",
    "    stopwords = [\"을\", \"를\", \"이\", \"가\", \"은\", \"는\", \"null\"] # 불용어 설정\n",
    "    tokenizer = Okt() # 형태소 분석기\n",
    "    token_list = []\n",
    "    \n",
    "    for text in text_list:\n",
    "        txt = re.sub('[^가-힣a-z]', ' ', text) # 한글과 영어 소문자만 남기고 다른 글자 모두 제거\n",
    "        token = tokenizer.morphs(txt) # 형태소 분석\n",
    "        token = [t for t in token if t not in stopwords or type(t) != float] # 형태소 분석\n",
    "        token_list.append(token)\n",
    "        \n",
    "    return token_list, tokenizer\n",
    "\n",
    "# 형태소 분석기를 따로 저장한 이유는 후에 test 데이터 전처리를 진행할 떄 이용해야 되기 때문이다.\n",
    "train['new_article'], okt = text_preprocessing(train['content'])"
   ]
  },
  {
   "cell_type": "markdown",
   "metadata": {},
   "source": [
    "이제 분리한 토큰을 기반으로 모델의 입력인 vectorization을 진행할 차례다!"
   ]
  },
  {
   "cell_type": "code",
   "execution_count": null,
   "metadata": {},
   "outputs": [],
   "source": []
  }
 ],
 "metadata": {
  "kernelspec": {
   "display_name": "Python 3",
   "language": "python",
   "name": "python3"
  },
  "language_info": {
   "codemirror_mode": {
    "name": "ipython",
    "version": 3
   },
   "file_extension": ".py",
   "mimetype": "text/x-python",
   "name": "python",
   "nbconvert_exporter": "python",
   "pygments_lexer": "ipython3",
   "version": "3.7.3"
  }
 },
 "nbformat": 4,
 "nbformat_minor": 2
}
