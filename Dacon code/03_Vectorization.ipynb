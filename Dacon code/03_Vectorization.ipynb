{
 "cells": [
  {
   "cell_type": "markdown",
   "metadata": {},
   "source": [
    "# 튜토리얼 목차\n",
    "1. 자연어 처리란? \n",
    "2. NLP Preprocessing \n",
    "## 3. Vectorization <<\n",
    "<br>\n",
    "4. Embedding \n",
    "5. Modeling\n",
    "***"
   ]
  },
  {
   "cell_type": "markdown",
   "metadata": {},
   "source": [
    "# Vectorization이란? \n",
    "- NLP를 컴퓨터가 이해할 수 있게 수치로 바꾸는 것을 말한다. 이 때 벡터로 변환된 고유의 토큰들이 모인 집합을 vocabulary라 하며, 이것이 크면 클수록 학습이 오래 걸리게 된다. 다양한 벡터화 함수들이 존재하지만 이번 노트북에서는 가장 기본적이며 많이 쓰이는 세 가지를 소개한다. \n",
    "- 이전 노트북에서 소개했던 것과 마찬가지로 토큰들을 벡터화하기 이전에 형태소 분석기를 사용하여 문장을 원하는 토큰들로 분리한다. 자세한 내용은 [이전 노트북]()을 참고.\n",
    "<br>\n",
    "\n",
    "Ex) 자연어 처리는 정말 즐거워. 즐거운 자연어 처리 다같이 해보자. <br>\n",
    "\n",
    "의 문장들을 간단한 전처리와 okt를 활용하여 나누어보자. "
   ]
  },
  {
   "cell_type": "code",
   "execution_count": 1,
   "metadata": {},
   "outputs": [
    {
     "name": "stdout",
     "output_type": "stream",
     "text": [
      "형태소 단위로 문장 분리\n",
      "+++++++++++++++++++++++\n",
      "['자연어 처리 는 정말 정말 즐거워', '즐거운 자연어 처리 다 같이 해보자']\n"
     ]
    }
   ],
   "source": [
    "from konlpy.tag import Okt\n",
    "import re\n",
    "\n",
    "okt = Okt()\n",
    "\n",
    "sentences = ['자연어 처리는 정말 정말 즐거워.', '즐거운 자연어 처리 다같이 해보자.']\n",
    "tokens = []\n",
    "\n",
    "for sentence in sentences:\n",
    "    sentence = re.sub('[^가-힣a-z]', ' ', sentence) # 간단한 전처리\n",
    "    token = (okt.morphs(sentence)) # 형태소 분석기를 이용한 토큰 나누기\n",
    "    tokens.append(' '.join(token))\n",
    "    \n",
    "print(\"형태소 단위로 문장 분리\")\n",
    "print(\"+++++++++++++++++++++++\")\n",
    "print(tokens)"
   ]
  },
  {
   "cell_type": "markdown",
   "metadata": {},
   "source": [
    "## 1. One Hot Encoding \n",
    "- 두번째 노트북에서 설명했던 방식이 바로 one-hot-encoding이다. 해당 단어가 존재하면 1, 그렇지 않으면 모두 0으로 표시되는 기법이다. keras를 이용하면 쉽게 구현이 가능하며, texts_to_sequences를 활용해 각 토큰에 고유한 정수를 부여한 후 to_categorical을 활용하면 간단하게 구현이 가능하다."
   ]
  },
  {
   "cell_type": "code",
   "execution_count": null,
   "metadata": {},
   "outputs": [],
   "source": []
  }
 ],
 "metadata": {
  "kernelspec": {
   "display_name": "Python 3",
   "language": "python",
   "name": "python3"
  },
  "language_info": {
   "codemirror_mode": {
    "name": "ipython",
    "version": 3
   },
   "file_extension": ".py",
   "mimetype": "text/x-python",
   "name": "python",
   "nbconvert_exporter": "python",
   "pygments_lexer": "ipython3",
   "version": "3.7.3"
  }
 },
 "nbformat": 4,
 "nbformat_minor": 2
}
