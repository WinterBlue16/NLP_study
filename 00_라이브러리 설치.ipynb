{
 "cells": [
  {
   "cell_type": "markdown",
   "metadata": {},
   "source": [
    "# 00_자연어 필수 라이브러리 설치\n",
    "> 이 실습 노트는 자연어 처리 기초를 다지기 위한 것이다. 본문과 앞으로 작성될 실습 노트는 [딥러닝을 이용한 자연어 처리 입문](https://wikidocs.net/22488)에 따르고 있다. \n",
    "\n",
    "뭐든 딱딱한 설명보다는 내가 하고 싶은 것, 관심있는 것과 연관지을 때 머리가 더 빨리 돌아가는 법이다. 나는 매일 아침 종이신문을 받는다. 늘 느끼지만 다 읽기에는 분량이 너무 많다. 볼드체로 커다랗게 찍힌 제목을 읽으며 누군가 이 기사를 3줄 요약해줬으면 좋겠다는 생각을 하게 된다. 안 읽은 신문을 던져 넣으면 읽고 싶은 기사만 추려서, 그 기사를 짧게 요약한 글들만 일목요연하게 보여주는 기계가 있으면 얼마나 좋을까? 컴퓨터가 하면 되지 않나? 하지만 컴퓨터는 한국어를 할 줄 모른다. 그럼 어떻게 해야 할까? 자연어 처리(Natural Language Processing, 약칭 NLP)는 바로 이런 고민에서 시작되었다. \n",
    "\n",
    "자연어를 공부하기에 앞서, 가장 먼저 해야 할 일은 라이브러리를 설치하는 것이다. "
   ]
  },
  {
   "cell_type": "code",
   "execution_count": 8,
   "metadata": {},
   "outputs": [],
   "source": [
    "# 기본 라이브러리\n",
    "import tensorflow\n",
    "import gensim\n",
    "import sklearn\n",
    "import keras"
   ]
  },
  {
   "cell_type": "code",
   "execution_count": 9,
   "metadata": {},
   "outputs": [],
   "source": [
    "# 자연어 처리를 위한 라이브러리\n",
    "import nltk\n",
    "import konlpy"
   ]
  },
  {
   "cell_type": "code",
   "execution_count": 10,
   "metadata": {},
   "outputs": [
    {
     "name": "stdout",
     "output_type": "stream",
     "text": [
      "showing info https://raw.githubusercontent.com/nltk/nltk_data/gh-pages/index.xml\n"
     ]
    },
    {
     "data": {
      "text/plain": [
       "True"
      ]
     },
     "execution_count": 10,
     "metadata": {},
     "output_type": "execute_result"
    }
   ],
   "source": [
    "# 실습에 쓸 자료 다운로드\n",
    "nltk.download()"
   ]
  }
 ],
 "metadata": {
  "kernelspec": {
   "display_name": "Python 3",
   "language": "python",
   "name": "python3"
  },
  "language_info": {
   "codemirror_mode": {
    "name": "ipython",
    "version": 3
   },
   "file_extension": ".py",
   "mimetype": "text/x-python",
   "name": "python",
   "nbconvert_exporter": "python",
   "pygments_lexer": "ipython3",
   "version": "3.7.3"
  }
 },
 "nbformat": 4,
 "nbformat_minor": 2
}
