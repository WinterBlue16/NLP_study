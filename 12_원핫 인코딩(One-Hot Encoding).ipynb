{
 "cells": [
  {
   "cell_type": "markdown",
   "metadata": {},
   "source": [
    "# 12_원핫 인코딩(One-Hot Encoding)\n",
    "컴퓨터, 혹은 기계는 문자보다 숫자를 더 잘 처리한다. 그 때문에 자연어 처리에서는 문자를 숫자로 바꾸는 여러가지 기법들이 존재한다. 원핫 인코딩(One-Hot Encoding)은 그 많은 기법 중에서 단어를 표현하는 가장 기본적인 표현방법이며, 머신러닝, 딥 러닝을 하기 위해서는 반드시 배워야 한다. \n",
    "<br>\n",
    "\n",
    "원핫 인코딩에 대해 배우기 앞서 **단어 집합(vocabulary)**에 대해서 정의해보자. 어떤 사람들은 '사전'이라고도 부르지만, 집합이라는 표현이 보다 명확해 보이므로 이하에서는 단어 집합이라 서술한다. 단어 집합은 앞으로의 자연어 처리에서도 계속 나오는 개념이므로 여기서 이해하고 넘어가야 한다. 단어 집합은 서로 다른 단어들의 집합이다. 여기서 혼동이 없도록 '서로 다른 단어'라는 정의에 대해 좀 더 주목할 필요가 있다.\n",
    "\n",
    "단어 집합(vocabulary)에서는 기본적으로 book과 books와 같이 단어의 변형 형태도 다른 단어로 간주한다. 여기서는 앞으로 단어 집합에 있는 단어들을 가지고, 문자를 숫자(더 구체적으로는 벡터)로 바꾸는 원핫 인코딩을 포함한 여러 방법에 대해 배우게 된다. \n",
    "<br>\n",
    "\n",
    "원핫 인코딩을 위해 가장 먼저 해야 할 일은 단어 집합을 만드는 것이다. 단어 집합은 텍스트의 모든 단어를 중복을 허용하지 않고 모아놓은 것이다. 그리고 이 단어 집합에 고유한 숫자를 부여하는 정수 인코딩을 진행한다. 텍스트에 단어가 총 5,000개가 존재한다면, 단어 집합의 크기는 5,000이다. 5,000개의 단어가 있는 이 단어 집합의 단어들마다 1번부터 5,000번까지 인덱스를 부여한다고 가정한다. 그럴 경우 book은 150번, dog은 171번, love는 192번, books는 212번과 같이 부여할 수 있다. \n",
    "<br>\n",
    "\n",
    "이제 각 단어에 고유한 정수 인덱스를 부여하였다고 가정한다. 이 숫자로 바뀐 단어들을 벡터로 다루고 싶다면 어떻게 해야 하는지 알아보자. "
   ]
  },
  {
   "cell_type": "markdown",
   "metadata": {},
   "source": [
    "## 1. 원핫 인코딩(One-Hot Encoding) 이란? "
   ]
  },
  {
   "cell_type": "code",
   "execution_count": 1,
   "metadata": {},
   "outputs": [
    {
     "name": "stdout",
     "output_type": "stream",
     "text": [
      "['나', '는', '자연어', '처리', '를', '배운다']\n"
     ]
    }
   ],
   "source": [
    "from konlpy.tag import Okt\n",
    "okt = Okt()\n",
    "token = okt.morphs(\"나는 자연어 처리를 배운다\")\n",
    "print(token)"
   ]
  },
  {
   "cell_type": "code",
   "execution_count": null,
   "metadata": {},
   "outputs": [],
   "source": []
  }
 ],
 "metadata": {
  "kernelspec": {
   "display_name": "Python 3",
   "language": "python",
   "name": "python3"
  },
  "language_info": {
   "codemirror_mode": {
    "name": "ipython",
    "version": 3
   },
   "file_extension": ".py",
   "mimetype": "text/x-python",
   "name": "python",
   "nbconvert_exporter": "python",
   "pygments_lexer": "ipython3",
   "version": "3.7.3"
  }
 },
 "nbformat": 4,
 "nbformat_minor": 2
}
