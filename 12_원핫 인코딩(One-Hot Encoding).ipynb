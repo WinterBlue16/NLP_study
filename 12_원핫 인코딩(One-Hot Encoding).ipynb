{
 "cells": [
  {
   "cell_type": "markdown",
   "metadata": {},
   "source": [
    "# 12_원핫 인코딩(One-Hot Encoding)\n",
    "컴퓨터, 혹은 기계는 문자보다 숫자를 더 잘 처리한다. 그 때문에 자연어 처리에서는 문자를 숫자로 바꾸는 여러가지 기법들이 존재한다. 원핫 인코딩(One-Hot Encoding)은 그 많은 기법 중에서 단어를 표현하는 가장 기본적인 표현방법이며, 머신러닝, 딥 러닝을 하기 위해서는 반드시 배워야 한다. \n",
    "<br>\n",
    "\n",
    "원핫 인코딩에 대해 배우기 앞서 **단어 집합(vocabulary)**에 대해서 정의해보자. 어떤 사람들은 '사전'이라고도 부르지만, 집합이라는 표현이 보다 명확해 보이므로 이하에서는 단어 집합이라 서술한다. 단어 집합은 앞으로의 자연어 처리에서도 계속 나오는 개념이므로 여기서 이해하고 넘어가야 한다. 단어 집합은 서로 다른 단어들의 집합이다. 여기서 혼동이 없도록 '서로 다른 단어'라는 정의에 대해 좀 더 주목할 필요가 있다."
   ]
  },
  {
   "cell_type": "code",
   "execution_count": null,
   "metadata": {},
   "outputs": [],
   "source": []
  }
 ],
 "metadata": {
  "kernelspec": {
   "display_name": "Python 3",
   "language": "python",
   "name": "python3"
  },
  "language_info": {
   "codemirror_mode": {
    "name": "ipython",
    "version": 3
   },
   "file_extension": ".py",
   "mimetype": "text/x-python",
   "name": "python",
   "nbconvert_exporter": "python",
   "pygments_lexer": "ipython3",
   "version": "3.7.3"
  }
 },
 "nbformat": 4,
 "nbformat_minor": 2
}
