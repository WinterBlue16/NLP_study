{
 "cells": [
  {
   "cell_type": "markdown",
   "metadata": {},
   "source": [
    "# 06) 정제(Cleaning) & 정규화(Normalization)"
   ]
  },
  {
   "cell_type": "markdown",
   "metadata": {},
   "source": [
    "코퍼스에서 용도에 맞게 토큰을 분류하는 작업을 토큰화(tokenization)라고 한다. 이러한 작업 전후에는 텍스트 데이터를 정제(Cleaning) 및 정규화(Normalization)하는 일이 항상 함께한다. 그 목적은 각각 다음과 같다.\n",
    "\n",
    "- 정제 : 갖고 있는 코퍼스로부터 노이즈 데이터를 제거한다.\n",
    "- 정규화 : 표현방법이 다른 언어들을 통합시켜서 같은 단어로 만들어준다."
   ]
  },
  {
   "cell_type": "markdown",
   "metadata": {},
   "source": [
    "## 1. 규칙에 기반한 표기가 다른 단어들의 통합\n",
    "정규화 규칙의 한 예로서 같은 의미를 가지고 있음에도 표기가 다른 단어들을 하나의 단어로 통일해 정규화하는 방법을 사용할 수 있다. \n",
    "\n",
    "ex) USA, US/ uh-huh, uhhuh\n",
    "\n",
    "이러한 과정에서 어간 추출(stemming)과 표제어 추출(lemmatization)을 사용한다. "
   ]
  },
  {
   "cell_type": "markdown",
   "metadata": {},
   "source": [
    "## 2. 대, 소문자 통합\n",
    "영어권에서 대문자는 문장의 맨 앞 혹은 특정한 경우에만 사용되기 때문에, 이러한 통합 작업은 보통 대문자를 소문자로 변환하는 작업으로 이루어진다.<br><br> \n",
    "다만, 대문자와 소문자를 무작정 통합해서는 안 된다. 대소문자가 명백히 구분되어야 하는 경우도 있기 때문이다. 미국을 뜻하는 단어 US와 우리를 뜻하는 단어 us가 다르듯이. 또한 고유명사에 해당하는 회사 이름(ex)Samsung)이나, 사람 이름(Kyunghee) 등은 대문자로 유지되어야 한다. <br><br>\n",
    "이러한 정규화 작업은 데이터에 따라 달라질 수 있다."
   ]
  },
  {
   "cell_type": "markdown",
   "metadata": {},
   "source": [
    "## 3. 불필요한 단어 제거(Removing Unnecessary Words)\n",
    "분석하고자 하는 목적에 맞지 않는 불필요한 단어들을 노이즈 데이터라고 한다. <br><br>\n",
    "이러한 단어들을 제거하는 방법으로는 불용어 제거와 등장 빈도가 적은 단어, 길이가 짧은 단어들을 제거하는 방법이 있다. "
   ]
  },
  {
   "cell_type": "code",
   "execution_count": 1,
   "metadata": {},
   "outputs": [
    {
     "name": "stdout",
     "output_type": "stream",
     "text": [
      " was wondering anyone out there could enlighten this car.\n"
     ]
    }
   ],
   "source": [
    "import re\n",
    "text = \"I was wondering if anyone out there could enlighten me on this car.\"\n",
    "shortword = re.compile(r'\\W*\\b\\w{1,2}\\b')\n",
    "print(shortword.sub('', text))"
   ]
  },
  {
   "cell_type": "code",
   "execution_count": null,
   "metadata": {},
   "outputs": [],
   "source": []
  }
 ],
 "metadata": {
  "kernelspec": {
   "display_name": "Python 3",
   "language": "python",
   "name": "python3"
  },
  "language_info": {
   "codemirror_mode": {
    "name": "ipython",
    "version": 3
   },
   "file_extension": ".py",
   "mimetype": "text/x-python",
   "name": "python",
   "nbconvert_exporter": "python",
   "pygments_lexer": "ipython3",
   "version": "3.7.3"
  }
 },
 "nbformat": 4,
 "nbformat_minor": 2
}
