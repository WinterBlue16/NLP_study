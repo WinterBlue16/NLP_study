{
 "cells": [
  {
   "cell_type": "markdown",
   "metadata": {},
   "source": [
    "# 22_Bag of Words(BoW)\n",
    "이 문서에서는 단어의 등장 순서를 고려하지 않는, 빈도수 기반의 단어 표현 방법인 Bag of Words에 대해서 학습한다. "
   ]
  },
  {
   "cell_type": "markdown",
   "metadata": {},
   "source": [
    "## 1. Bag of Words란?\n",
    "Bag of Words란 단어들의 순서는 전혀 고려하지 않고, 단어들의 출현 빈도(frequency)에만 집중하는 텍스트 데이터의 수치화 표현 방법이다. Bag of Words를 직역하면 '단어들의 가방'이라는 의미가 된다. 단어들이 잔뜩 들어있는 가방을 한번 상상해보자. 갖고 있는 어떤 텍스트 문서에 있는 단어들을 모아다가 가방에 전부 집어넣는 것이다. 그리고 나서 이 가방을 흔들어 단어들을 섞어보자. 만약, 해당 문서 안에서 특정 단어가 N번 등장했다면, 가방에는 그 단어가 N개 존재하는 것이다. 당연하지만 가방을 흔들어 단어들이 전부 섞였기 때문에 더 이상 단어의 순서는 중요하지 않게 된다. <br>\n",
    "\n",
    "BoW를 만드는 과정을 아래와 같은 두 가지 과정으로 생각해보자. \n",
    "1) 우선, 각 단어에 고유한 정수 인덱스를 부여한다. \n",
    "2) 각 인덱스의 위치에 단어 토큰의 등장 횟수를 기록한 벡터를 만든다. \n",
    "\n",
    "<br>\n",
    "\n",
    "한국어 예제를 통해 BoW에 대해 이해해보자. "
   ]
  }
 ],
 "metadata": {
  "kernelspec": {
   "display_name": "Python 3",
   "language": "python",
   "name": "python3"
  },
  "language_info": {
   "codemirror_mode": {
    "name": "ipython",
    "version": 3
   },
   "file_extension": ".py",
   "mimetype": "text/x-python",
   "name": "python",
   "nbconvert_exporter": "python",
   "pygments_lexer": "ipython3",
   "version": "3.7.3"
  }
 },
 "nbformat": 4,
 "nbformat_minor": 2
}
