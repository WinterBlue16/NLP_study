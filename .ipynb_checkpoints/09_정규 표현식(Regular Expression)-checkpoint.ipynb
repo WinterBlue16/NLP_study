{
 "cells": [
  {
   "cell_type": "markdown",
   "metadata": {},
   "source": [
    "# 09_정규 표현식(Regular Expression)\n",
    "\n",
    "[생활코딩](https://opentutorials.org/course/909/5142) 페이지에 따르면 정규 표현식이란 \"문자열을 처리하는 방법 중의 하나로 특정한 조건의 문자를 '검색'하거나 '치환'하는 과정을 매우 간편하게 처리 할 수 있도록 하는 수단\"이다.특히 텍스트 데이터를 전처리할 때, 정규 표현식은 매우 유용한 도구이다. \n",
    "\n",
    "<br>\n",
    "파이썬에서는 정규 표현식 모듈 re를 지원하고 있으며, NLTK에서는 이를 통해 토큰화를 진행한다. "
   ]
  },
  {
   "cell_type": "markdown",
   "metadata": {},
   "source": [
    "## 1. 정규 표현식 문법과 모듈 함수\n",
    "> 정규 표현식을 위해 사용되는 특수 문자와 모듈 함수에 대해서 알아보도록 한다.\n",
    "\n",
    "### 1) 정규 표현식 문법\n",
    "정규 표현식을 위해 사용되는 문법 중 특수 문자들은 아래와 같다. \n",
    "### 2) 정규 표현식 모듈 함수"
   ]
  },
  {
   "cell_type": "markdown",
   "metadata": {},
   "source": [
    "## 2. 정규 표현식 실습"
   ]
  },
  {
   "cell_type": "code",
   "execution_count": 1,
   "metadata": {},
   "outputs": [],
   "source": [
    "import re\n",
    "r=re.compile('a.c')\n",
    "r.search('kkk') # 아무 결과도 출력되지 않음"
   ]
  },
  {
   "cell_type": "code",
   "execution_count": 2,
   "metadata": {},
   "outputs": [
    {
     "data": {
      "text/plain": [
       "<re.Match object; span=(0, 3), match='abc'>"
      ]
     },
     "execution_count": 2,
     "metadata": {},
     "output_type": "execute_result"
    }
   ],
   "source": [
    "r.search('abc') # search의 입력으로 들어오는 문자열에 정규표현식 패턴 a.c가 존재하는지를 확인"
   ]
  },
  {
   "cell_type": "code",
   "execution_count": null,
   "metadata": {},
   "outputs": [],
   "source": []
  }
 ],
 "metadata": {
  "kernelspec": {
   "display_name": "Python 3",
   "language": "python",
   "name": "python3"
  },
  "language_info": {
   "codemirror_mode": {
    "name": "ipython",
    "version": 3
   },
   "file_extension": ".py",
   "mimetype": "text/x-python",
   "name": "python",
   "nbconvert_exporter": "python",
   "pygments_lexer": "ipython3",
   "version": "3.7.3"
  }
 },
 "nbformat": 4,
 "nbformat_minor": 2
}
