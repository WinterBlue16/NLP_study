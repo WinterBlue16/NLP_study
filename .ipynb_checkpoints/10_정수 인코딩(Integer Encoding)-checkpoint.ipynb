{
 "cells": [
  {
   "cell_type": "markdown",
   "metadata": {},
   "source": [
    "# 10_정수 인코딩(Integer Encoding)\n",
    "\n",
    "컴퓨터는 텍스트보다는 숫자를 더 잘 처리한다. 그 때문에 자연어 처리에서는 텍스트를 숫자로 바꾸는 여러가지 기법들이 있다. 그리고 그러한 기법들을 본격적으로 적용시키기 위한 첫 단계로 각 단어를 고유한 정수에 맵핑(mapping)시키는 전처리 작업이 필요할 때가 있다. \n",
    "<br>\n",
    "\n",
    "예를 들어 갖고 있는 텍스트가 단어 5,000개로 구성되어 있다면, 5,000개의 단어들 각각에 1번부터 5,000번까지 맵핑되는 고유한 정수, 다른 표현으로 말하자면 인덱스를 부여하는 것이다. 가령, book은 150번, dog는 171번, love는 192번, books는 212번과 같이 숫자를 부여한다고 생각하면 된다. 이러한 인덱스를 부여하는 방법은 여러 가지가 있을 수 있다. 랜덤으로 부여하기도 하지만, 보통은 전처리 또는 빈도수가 높은 단어들만 사용하기 위해 단어 출현 빈도수를 기준으로 정렬한 후에 인덱스를 준다."
   ]
  },
  {
   "cell_type": "markdown",
   "metadata": {},
   "source": [
    "## 1. 정수 인코딩(Integer Encoding) \n",
    "왜 이러한 작업이 필요한지에 대해서는 뒷부분의 [원 핫 인코딩](), [워드 임베딩]() 챕터 등에서 알아보기로 하고 여기서는 어떤 과정으로 단어에 정수 인덱스를 부여하는지에 대해서만 정리한다. \n",
    "<br>\n",
    "\n",
    "단어에 정수(인덱스)를 부여하는 방법 중에는 우선 단어 출현 빈도 순으로 정렬한 단어 집합(vocabulary)를 만들고, 이 빈도수가 높은 순서대로 1, 2, 3....과 같이 정수 인덱스를 부여하는 방법이 있다. 아래에서는 이해를 돕기 위해 단어의 빈도수가 적당히 분포되도록 구축한 텍스트 데이터를 가지고 실습한다.  "
   ]
  },
  {
   "cell_type": "markdown",
   "metadata": {},
   "source": [
    "### 1) dictionary 사용하기"
   ]
  },
  {
   "cell_type": "code",
   "execution_count": 1,
   "metadata": {},
   "outputs": [],
   "source": [
    "from nltk.tokenize import sent_tokenize\n",
    "from nltk.tokenize import word_tokenize\n",
    "from nltk.corpus import stopwords"
   ]
  },
  {
   "cell_type": "code",
   "execution_count": 2,
   "metadata": {},
   "outputs": [],
   "source": [
    "text = \"A barber is a person. a barber is good person. a barber is huge person. he Knew A Secret! The Secret He Kept is huge secret. Huge secret. His barber kept his word. a barber kept his word. His barber kept his secret. But keeping and keeping such a huge secret to himself was driving the barber crazy. the barber went up a huge mountain.\""
   ]
  },
  {
   "cell_type": "code",
   "execution_count": null,
   "metadata": {},
   "outputs": [],
   "source": []
  }
 ],
 "metadata": {
  "kernelspec": {
   "display_name": "Python 3",
   "language": "python",
   "name": "python3"
  },
  "language_info": {
   "codemirror_mode": {
    "name": "ipython",
    "version": 3
   },
   "file_extension": ".py",
   "mimetype": "text/x-python",
   "name": "python",
   "nbconvert_exporter": "python",
   "pygments_lexer": "ipython3",
   "version": "3.7.3"
  }
 },
 "nbformat": 4,
 "nbformat_minor": 2
}
