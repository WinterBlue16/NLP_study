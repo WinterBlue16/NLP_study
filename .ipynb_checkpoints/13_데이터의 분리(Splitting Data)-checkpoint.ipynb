{
 "cells": [
  {
   "cell_type": "markdown",
   "metadata": {},
   "source": [
    "# 13_데이터의 분리(Splitting Data)\n",
    "머신러닝(딥러닝) 모델에 데이터를 훈련시키기 위해서는 데이터를 적절히 분리하는 작업이 필요하다. 이 책에서는 머신러닝 기법 중 주로 지도학습(Supervised Learning)에 대해 배우는데, 이 문서에는 지도 학습을 위한 데이터 분리 작업에 대해서 배운다. "
   ]
  },
  {
   "cell_type": "markdown",
   "metadata": {},
   "source": [
    "## 1. 지도 학습(Supervised Learning) \n",
    "지도 학습의 훈련 데이터는 문제지를 연상케 한다. 훈련 데이터는 정답이 뭔지 맞춰야 하는 '문제'에 해당되는 데이터(input, x, train 라고도 한다)와 레이블(label, y, 라벨이라고도 한다)이라고 부르는 '정답' 데이터로 구성되어 있다. 쉽게 비유하면, 기계는 정답이 나와 있는 문제지를 보며 열심히 공부하고, 향후 정답이 없는 문제에 대해서도 정답을 잘 예측할 수 있어야 한다.<br>\n",
    "\n",
    "예를 들어 스팸 메일 분류기를 만들기 위한 데이터 같은 경우, 메일의 내용과 해당 내용이 정상 메일인지, 스팸 메일인지 적혀있는 레이블로 구성되어 있다. 이 데이터는 두 개의 열로 구성되는데, 바로 메일의 본문에 해당되는 첫번째 열과 해당 메일이 정상 메일인지 스팸 메일인지 적혀있는, 정답에 해당하는 두 번째 열이다. 그리고 이러한 데이터 배열이 총 20,000개의 행을 가진다.\n",
    "\n",
    "이해를 쉽게 하기 위해 기계를 지도하는 선생님의 입장이 되어보자. "
   ]
  }
 ],
 "metadata": {
  "kernelspec": {
   "display_name": "Python 3",
   "language": "python",
   "name": "python3"
  },
  "language_info": {
   "codemirror_mode": {
    "name": "ipython",
    "version": 3
   },
   "file_extension": ".py",
   "mimetype": "text/x-python",
   "name": "python",
   "nbconvert_exporter": "python",
   "pygments_lexer": "ipython3",
   "version": "3.7.3"
  }
 },
 "nbformat": 4,
 "nbformat_minor": 2
}
