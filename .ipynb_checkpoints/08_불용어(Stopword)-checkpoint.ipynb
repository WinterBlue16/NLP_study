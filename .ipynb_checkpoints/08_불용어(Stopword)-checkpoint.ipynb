{
 "cells": [
  {
   "cell_type": "markdown",
   "metadata": {},
   "source": [
    "# 08_불용어(Stopword)\n",
    "갖고 있는 데이터에서 의미 있는 단어 토큰만을 선별하기 위해서는 분석에 있어 큰 도움이 되지 않는 단어 토큰들을 제거하는 작업이 필수적이다.이를 테면, I, my, me, over 등 일부 대명사와 조사, 접미사 같은 단어들은 문장에서 매우 자주 등장하나 실제 의미 분석을 하는데는 큰 도움이 되지 않는다. 이러한 단어들을 **불용어(Stopword)**라 하며, NLTK에서는 100여 개 이상의 불용어를 패키지 내에서 정의하고 있다. \n",
    "<br>\n",
    "물론 불용어는 개발자가 직접 정의할 수도 있다. 여기서는 영어문장에서 NLTK가 정의한 불용어를 제거하는 실습을 하고, 한국어 문장에서 직접 정의한 불용어를 제거해 본다. "
   ]
  },
  {
   "cell_type": "markdown",
   "metadata": {},
   "source": [
    "## 1. NLTK에서 불용어 확인하기"
   ]
  },
  {
   "cell_type": "code",
   "execution_count": 1,
   "metadata": {},
   "outputs": [
    {
     "data": {
      "text/plain": [
       "['i', 'me', 'my', 'myself', 'we', 'our', 'ours', 'ourselves', 'you', \"you're\"]"
      ]
     },
     "execution_count": 1,
     "metadata": {},
     "output_type": "execute_result"
    }
   ],
   "source": [
    "from nltk.corpus import stopwords\n",
    "stopwords.words('english')[:10] # 불용어 중 10개만 확인"
   ]
  },
  {
   "cell_type": "markdown",
   "metadata": {},
   "source": [
    "## 2. NLTK를 통해서 불용어 제거하기"
   ]
  },
  {
   "cell_type": "code",
   "execution_count": 2,
   "metadata": {},
   "outputs": [
    {
     "name": "stdout",
     "output_type": "stream",
     "text": [
      "['Family', 'is', 'not', 'an', 'important', 'thing', '.', 'It', \"'s\", 'everything', '.']\n",
      "['Family', 'important', 'thing', '.', 'It', \"'s\", 'everything', '.']\n"
     ]
    }
   ],
   "source": [
    "from nltk.tokenize import word_tokenize\n",
    "\n",
    "example=\"Family is not an important thing. It's everything.\"\n",
    "stop_words=set(stopwords.words('english'))\n",
    "\n",
    "word_tokens=word_tokenize(example)\n",
    "\n",
    "result=[]\n",
    "for w in word_tokens:\n",
    "    if w not in stop_words:\n",
    "        result.append(w)\n",
    "        \n",
    "print(word_tokens)\n",
    "print(result)"
   ]
  },
  {
   "cell_type": "markdown",
   "metadata": {},
   "source": [
    "## 3. 한국어에서 불용어 제거하기"
   ]
  },
  {
   "cell_type": "code",
   "execution_count": null,
   "metadata": {},
   "outputs": [],
   "source": []
  }
 ],
 "metadata": {
  "kernelspec": {
   "display_name": "Python 3",
   "language": "python",
   "name": "python3"
  },
  "language_info": {
   "codemirror_mode": {
    "name": "ipython",
    "version": 3
   },
   "file_extension": ".py",
   "mimetype": "text/x-python",
   "name": "python",
   "nbconvert_exporter": "python",
   "pygments_lexer": "ipython3",
   "version": "3.7.3"
  }
 },
 "nbformat": 4,
 "nbformat_minor": 2
}
