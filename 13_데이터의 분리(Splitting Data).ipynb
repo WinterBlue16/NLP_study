{
 "cells": [
  {
   "cell_type": "markdown",
   "metadata": {},
   "source": [
    "# 13_데이터의 분리(Splitting Data)\n",
    "머신러닝(딥러닝) 모델에 데이터를 훈련시키기 위해서는 데이터를 적절히 분리하는 작업이 필요하다. 이 책에서는 머신러닝 기법 중 주로 지도학습(Supervised Learning)에 대해 배우는데, 이 문서에는 지도 학습을 위한 데이터 분리 작업에 대해서 배운다. "
   ]
  },
  {
   "cell_type": "markdown",
   "metadata": {},
   "source": [
    "## 1. 지도 학습(Supervised Learning) \n",
    "지도 학습의 훈련 데이터는 문제지를 연상케 한다. 훈련 데이터는 정답이 뭔지 맞춰야 하는 '문제'에 해당되는 데이터(input, x, train 라고도 한다)와 레이블(label, y, 라벨이라고도 한다)이라고 부르는 '정답' 데이터로 구성되어 있다. 쉽게 비유하면, 기계는 정답이 나와 있는 문제지를 보며 열심히 공부하고, 향후 정답이 없는 문제에 대해서도 정답을 잘 예측할 수 있어야 한다.<br>\n",
    "\n",
    "예를 들어 스팸 메일 분류기를 만들기 위한 데이터 같은 경우, 메일의 내용과 해당 내용이 정상 메일인지, 스팸 메일인지 적혀있는 레이블로 구성되어 있다. 이 데이터는 두 개의 열로 구성되는데, 바로 메일의 본문에 해당되는 첫번째 열과 해당 메일이 정상 메일인지 스팸 메일인지 적혀있는, 정답에 해당하는 두 번째 열이다. \n",
    "<br>\n",
    "\n",
    "![캡처](https://user-images.githubusercontent.com/58945760/102754805-d7dfb700-43b0-11eb-8348-18b3b2ee700b.PNG)\n",
    "\n",
    "\n",
    "<br>\n",
    "그리고 이러한 데이터 배열이 총 20,000개의 행을 가진다.\n",
    "<br>\n",
    "\n",
    "이해를 쉽게 하기 위해 기계를 지도하는 선생님의 입장이 되어보자. 기계를 가르치기 위해 데이터를 총 4개로 나눈다. 우선 메일의 내용이 담긴 첫 번째 열을 X에 저장한다. 그리고 메일이 스팸인지 정상인지 정답이 적혀있는 두 번째 열을 y에 저장한다. 이제 문제지에 해당되는 20,000개의 X와 정답지에 해당되는 20,000개의 y가 생겼다.<br>\n",
    "\n",
    "그리고 이제 이 X와 y에 대해서 일부 데이터를 또다시 분리한다. 이는 문제지를 공부하고 나서 실력을 평가하기 위해 시험(Test) 용으로 빼놓는 것이다. 여기서는 2,000개를 빼놓는다고 가정하겠다. 이 때 잊으면 안 되는 것이, 이 빼놓는 데이터 역시 X와 y가 짝을 이루도록 맵핑 관계를 유지해야 한다. 어떤 문제(X)에 대해 어떤 정답(y)인지 바로 찾을 수 있어야 한다. 이렇게 되면 학습용에 해당되는 18,000개의 X,y의 쌍과 시험용에 해당되는 2,000개의 X,y의 쌍이 생겨나게 된다. 이 문서에는 이런 유형의 데이터들에게 주로 아래와 같은 변수명을 부여한다.<br>\n",
    "\n",
    "**<훈련 데이터>**\n",
    "X_train : 문제지 데이터\n",
    "y_train : 문제지에 대한 정답 데이터\n",
    "<br>\n",
    "\n",
    "**<테스트 데이터>**\n",
    "X_test : 시험지 데이터\n",
    "y_test : 시험지에 대한 정답 데이터\n",
    "<br>\n",
    "\n",
    "기계는 이제부터 X_train과 y_train에 대해서 학습한다. 기계는 현 상태에서는 정답지인 y_train을 볼 수 있기 때문에 18,000개의 문제지 X_train을 보면서 어떤 메일 내용일 때 정상 메일이고, 어떤 메일 내용일 때 스팸 메일인지를 열심히 규칙을 도출해나가면서 정리해 나간다.<br> \n",
    "\n",
    "그리고 학습을 다 한 기계에 y_test를 보여주지 않고, X_test에 대해 정답을 예측하게 한다. 그리고 기계가 예측한 답과 실제 정답인 y_text를 비교하면서 기계가 얼마나 맞췄는지를 평가한다. 이 수치가 바로 기계의 정확도(Accuracy)가 된다. "
   ]
  },
  {
   "cell_type": "markdown",
   "metadata": {},
   "source": [
    "## 2. X와 y 분리하기"
   ]
  },
  {
   "cell_type": "markdown",
   "metadata": {},
   "source": [
    "### 1) zip 함수를 이용해 분리하기\n",
    "zip 함수는 동일한 개수를 가지는 시퀀스 자료형에서 각 순서에 등장하는 원소들끼리 묶어주는 역할을 한다. 리스트의 리스트 구성에서 zip 함수는 X와 y를 분리하는 데 유용하다. 우선 zip 함수가 어떤 역할을 하는지 확인해보도록 하겠다. "
   ]
  },
  {
   "cell_type": "code",
   "execution_count": 2,
   "metadata": {},
   "outputs": [
    {
     "name": "stdout",
     "output_type": "stream",
     "text": [
      "('a', 'b', 'c')\n",
      "(1, 2, 3)\n"
     ]
    }
   ],
   "source": [
    "X, y = zip(['a', 1], ['b', 2], ['c', 3])\n",
    "print(X)\n",
    "print(y)"
   ]
  },
  {
   "cell_type": "markdown",
   "metadata": {},
   "source": [
    "각 데이터에서 첫 번째로 등장한 원소들끼리 묶이고, 두 번째로 등장한 원소들끼리 묶인 것을 볼 수 있다. "
   ]
  },
  {
   "cell_type": "code",
   "execution_count": 3,
   "metadata": {},
   "outputs": [
    {
     "name": "stdout",
     "output_type": "stream",
     "text": [
      "('a', 'b', 'c')\n",
      "(1, 2, 3)\n"
     ]
    }
   ],
   "source": [
    "sequences = [['a', 1], ['b', 2], ['c', 3]] # 리스트의 리스트 or 행렬 or 뒤에서 배울 개념인 2D 텐서\n",
    "X, y = zip(*sequences) # *추가\n",
    "print(X)\n",
    "print(y)"
   ]
  },
  {
   "cell_type": "markdown",
   "metadata": {},
   "source": [
    "각 데이터에서 첫 번째로 등장한 원소들끼리 묶이고, 두 번째로 등장한 원소들끼리 묶인 것을 볼 수 있다. 이를 각각 X데이터와 y데이터로 사용할 수 있다. "
   ]
  },
  {
   "cell_type": "markdown",
   "metadata": {},
   "source": [
    "### 2) 데이터 프레임을 이용하여 분리하기"
   ]
  },
  {
   "cell_type": "code",
   "execution_count": 4,
   "metadata": {},
   "outputs": [
    {
     "data": {
      "text/html": [
       "<div>\n",
       "<style scoped>\n",
       "    .dataframe tbody tr th:only-of-type {\n",
       "        vertical-align: middle;\n",
       "    }\n",
       "\n",
       "    .dataframe tbody tr th {\n",
       "        vertical-align: top;\n",
       "    }\n",
       "\n",
       "    .dataframe thead th {\n",
       "        text-align: right;\n",
       "    }\n",
       "</style>\n",
       "<table border=\"1\" class=\"dataframe\">\n",
       "  <thead>\n",
       "    <tr style=\"text-align: right;\">\n",
       "      <th></th>\n",
       "      <th>메일 본문</th>\n",
       "      <th>스팸 메일 유무</th>\n",
       "    </tr>\n",
       "  </thead>\n",
       "  <tbody>\n",
       "    <tr>\n",
       "      <th>0</th>\n",
       "      <td>당신에게 드리는 마지막 혜택!</td>\n",
       "      <td>1</td>\n",
       "    </tr>\n",
       "    <tr>\n",
       "      <th>1</th>\n",
       "      <td>내일 뵐 수 있을지 확인 부탁드....</td>\n",
       "      <td>0</td>\n",
       "    </tr>\n",
       "    <tr>\n",
       "      <th>2</th>\n",
       "      <td>도연 씨, 잘 지내시죠? 오랜만입....</td>\n",
       "      <td>0</td>\n",
       "    </tr>\n",
       "    <tr>\n",
       "      <th>3</th>\n",
       "      <td>(광고) AI로 주가를 예측할 수 있다!</td>\n",
       "      <td>1</td>\n",
       "    </tr>\n",
       "  </tbody>\n",
       "</table>\n",
       "</div>"
      ],
      "text/plain": [
       "                    메일 본문  스팸 메일 유무\n",
       "0        당신에게 드리는 마지막 혜택!         1\n",
       "1   내일 뵐 수 있을지 확인 부탁드....         0\n",
       "2  도연 씨, 잘 지내시죠? 오랜만입....         0\n",
       "3  (광고) AI로 주가를 예측할 수 있다!         1"
      ]
     },
     "execution_count": 4,
     "metadata": {},
     "output_type": "execute_result"
    }
   ],
   "source": [
    "import pandas as pd\n",
    "\n",
    "values = [['당신에게 드리는 마지막 혜택!', 1],\n",
    "         ['내일 뵐 수 있을지 확인 부탁드....', 0],\n",
    "         ['도연 씨, 잘 지내시죠? 오랜만입....', 0], \n",
    "         ['(광고) AI로 주가를 예측할 수 있다!', 1]]\n",
    "columns = ['메일 본문', '스팸 메일 유무']\n",
    "\n",
    "df = pd.DataFrame(values, columns=columns)\n",
    "df"
   ]
  },
  {
   "cell_type": "markdown",
   "metadata": {},
   "source": [
    "데이터프레임은 열의 이름으로 각 열에 접근이 가능하므로, 이를 이용하면 손쉽게 X 데이터와 y 데이터를 분리할 수 있다. "
   ]
  },
  {
   "cell_type": "code",
   "execution_count": 5,
   "metadata": {},
   "outputs": [],
   "source": [
    "X=df['메일 본문']\n",
    "y=df['스팸 메일 유무']"
   ]
  },
  {
   "cell_type": "code",
   "execution_count": 6,
   "metadata": {},
   "outputs": [
    {
     "name": "stdout",
     "output_type": "stream",
     "text": [
      "0          당신에게 드리는 마지막 혜택!\n",
      "1     내일 뵐 수 있을지 확인 부탁드....\n",
      "2    도연 씨, 잘 지내시죠? 오랜만입....\n",
      "3    (광고) AI로 주가를 예측할 수 있다!\n",
      "Name: 메일 본문, dtype: object\n"
     ]
    }
   ],
   "source": [
    "print(X)"
   ]
  },
  {
   "cell_type": "markdown",
   "metadata": {},
   "source": [
    "'메일 본문'이라는 이름을 가졌던 첫 번째 열에 대해서만 저장이 된 것을 확인할 수 있다. 이번에는 y를 출력한다."
   ]
  },
  {
   "cell_type": "code",
   "execution_count": 7,
   "metadata": {},
   "outputs": [
    {
     "name": "stdout",
     "output_type": "stream",
     "text": [
      "0    1\n",
      "1    0\n",
      "2    0\n",
      "3    1\n",
      "Name: 스팸 메일 유무, dtype: int64\n"
     ]
    }
   ],
   "source": [
    "print(y)"
   ]
  },
  {
   "cell_type": "markdown",
   "metadata": {},
   "source": [
    "정상적으로 '스팸 메일 유무'라는 이름을 가졌던 두 번째 열에 대해서만 저장이 된 것을 확인할 수 있다. "
   ]
  },
  {
   "cell_type": "markdown",
   "metadata": {},
   "source": [
    "### 3) Numpy를 이용해 분리하기\n",
    "Numpy 라이브러리를 통해 데이터 행렬을 만들고, X데이터와 y데이터를 분리해보자"
   ]
  },
  {
   "cell_type": "code",
   "execution_count": 8,
   "metadata": {},
   "outputs": [
    {
     "name": "stdout",
     "output_type": "stream",
     "text": [
      "[[ 0  1  2  3]\n",
      " [ 4  5  6  7]\n",
      " [ 8  9 10 11]\n",
      " [12 13 14 15]]\n"
     ]
    }
   ],
   "source": [
    "import numpy as np\n",
    "\n",
    "ar = np.arange(0,16).reshape((4,4)) # 0~15까지의 숫자를 가지고 4*4의 행렬 생성\n",
    "print(ar)"
   ]
  },
  {
   "cell_type": "code",
   "execution_count": 9,
   "metadata": {},
   "outputs": [
    {
     "name": "stdout",
     "output_type": "stream",
     "text": [
      "[[ 0  1  2]\n",
      " [ 4  5  6]\n",
      " [ 8  9 10]\n",
      " [12 13 14]]\n"
     ]
    }
   ],
   "source": [
    "X=ar[:,:3] # 모든 행을 포함하는 3번째 열까지만 X로 변수 지정\n",
    "print(X)"
   ]
  },
  {
   "cell_type": "code",
   "execution_count": 10,
   "metadata": {},
   "outputs": [
    {
     "name": "stdout",
     "output_type": "stream",
     "text": [
      "[ 3  7 11 15]\n"
     ]
    }
   ],
   "source": [
    "y=ar[:,3] # 가장 마지막 열을 y데이터로 변수 지정\n",
    "print(y)"
   ]
  },
  {
   "cell_type": "markdown",
   "metadata": {},
   "source": [
    "## 3. 테스트 데이터 분리하기"
   ]
  },
  {
   "cell_type": "markdown",
   "metadata": {},
   "source": [
    "위에서 훈련 데이터로 문제에 해당하는 X와 y를 분리하는 작업에 대해 배웠다. 이번에는 이미 X와 y가 분리된 데이터에 대해 테스트 데이터를 분리하는 과정에 대해 알아보자. "
   ]
  },
  {
   "cell_type": "markdown",
   "metadata": {},
   "source": [
    "### 1) 사이킷런(sklearn)을 이용해 분리하기\n",
    "여기서는 훈련 데이터와 테스트 데이터를 유용하게 나눌 수 있는 방법을 소개한다. 사이킷런은 학습용 데이터와 테스트용 데이터를 분리해 주는 train_test_split를 지원한다. "
   ]
  },
  {
   "cell_type": "code",
   "execution_count": 11,
   "metadata": {},
   "outputs": [],
   "source": [
    "from sklearn.model_selection import train_test_split\n",
    "X_train, X_test, y_train, y_test = train_test_split(X, y, test_size=0.2, random_state=1234)"
   ]
  },
  {
   "cell_type": "markdown",
   "metadata": {},
   "source": [
    "X : 훈련용 문제+테스트용 문제 데이터(배열 OR 데이터프레임)<br>\n",
    "y : 훈련용 정답+테스트용 정답 데이터<br>\n",
    "\n",
    "test_size : 테스트용 데이터 개수를 지정한다. 1보다 작은 실수를 기재할 경우, 비율을 나타낸다. (test_size, train_size 중 하나만 기재해도 가능)<br>\n",
    "\n",
    "random_state : 랜덤 시드 지정. 훈련 데이터와 테스트 데이터를 나눌 때 코드의 실행횟수와 상관없이 같은 방식으로 데이터가 분리되게 해준다. 이 값을 지정하지 않을 경우, 하이퍼 파라미터 튜닝 혹은 여러 모델을 실험할 때 문제점이나 개선점을 찾기가 힘들어진다. <br><br>\n",
    "\n",
    "\n",
    "이제 예를 들어보자."
   ]
  },
  {
   "cell_type": "code",
   "execution_count": 13,
   "metadata": {},
   "outputs": [
    {
     "name": "stdout",
     "output_type": "stream",
     "text": [
      "[[0 1]\n",
      " [2 3]\n",
      " [4 5]\n",
      " [6 7]\n",
      " [8 9]]\n",
      "[0, 1, 2, 3, 4]\n"
     ]
    }
   ],
   "source": [
    "import numpy as np\n",
    "from sklearn.model_selection import train_test_split\n",
    "\n",
    "X, y = np.arange(10).reshape((5,2)), range(5)\n",
    "# 실습을 위해 임의로 X, y가 이미 분리된 데이터를 생성\n",
    "print(X)\n",
    "print(list(y)) # 정답 데이터"
   ]
  },
  {
   "cell_type": "code",
   "execution_count": 15,
   "metadata": {},
   "outputs": [],
   "source": [
    "X_train, X_test, y_train, y_test = train_test_split(X, y, test_size=0.33, random_state=1234)\n",
    "# 전체 데이터의 3분의 1만 test 데이터로 지정한다.\n",
    "# random_state 지정으로 인해 순서가 섞인 채로 훈련 데이터와 테스트 데이터가 나누어진다."
   ]
  },
  {
   "cell_type": "code",
   "execution_count": 16,
   "metadata": {},
   "outputs": [
    {
     "name": "stdout",
     "output_type": "stream",
     "text": [
      "[1, 2, 3]\n",
      "[4, 0]\n"
     ]
    }
   ],
   "source": [
    "print(y_train)\n",
    "print(y_test)"
   ]
  },
  {
   "cell_type": "markdown",
   "metadata": {},
   "source": [
    "### 2) 수동으로 분리하기\n",
    "데이터를 분리하는 방법 중 하나는 수동으로 분리하는 것입니다. 우선 임의로 X 데이터와 y 데이터를 만들어보겠습니다. "
   ]
  },
  {
   "cell_type": "code",
   "execution_count": 17,
   "metadata": {},
   "outputs": [],
   "source": [
    "import numpy as np\n",
    "X, y = np.arange(0,24).reshape((12,2)), range(12)\n",
    "# 실습을 위해 임의로 X, y가 이미 분리된 데이터를 생성"
   ]
  },
  {
   "cell_type": "code",
   "execution_count": 18,
   "metadata": {},
   "outputs": [
    {
     "name": "stdout",
     "output_type": "stream",
     "text": [
      "[[ 0  1]\n",
      " [ 2  3]\n",
      " [ 4  5]\n",
      " [ 6  7]\n",
      " [ 8  9]\n",
      " [10 11]\n",
      " [12 13]\n",
      " [14 15]\n",
      " [16 17]\n",
      " [18 19]\n",
      " [20 21]\n",
      " [22 23]]\n"
     ]
    }
   ],
   "source": [
    "print(X)"
   ]
  },
  {
   "cell_type": "code",
   "execution_count": null,
   "metadata": {},
   "outputs": [],
   "source": [
    "pri"
   ]
  }
 ],
 "metadata": {
  "kernelspec": {
   "display_name": "Python 3",
   "language": "python",
   "name": "python3"
  },
  "language_info": {
   "codemirror_mode": {
    "name": "ipython",
    "version": 3
   },
   "file_extension": ".py",
   "mimetype": "text/x-python",
   "name": "python",
   "nbconvert_exporter": "python",
   "pygments_lexer": "ipython3",
   "version": "3.7.3"
  }
 },
 "nbformat": 4,
 "nbformat_minor": 2
}
