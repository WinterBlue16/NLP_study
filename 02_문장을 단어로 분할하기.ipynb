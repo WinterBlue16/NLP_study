{
 "cells": [
  {
   "cell_type": "markdown",
   "metadata": {},
   "source": [
    "# NLP_문장의 단어로 분할하기\n",
    "> 한국어 문장을 단어로 분할하고, 형태소를 분석한다. "
   ]
  },
  {
   "cell_type": "markdown",
   "metadata": {},
   "source": [
    "## 라이브러리 설치 필요(nltk, konlpy)"
   ]
  },
  {
   "cell_type": "code",
   "execution_count": 10,
   "metadata": {},
   "outputs": [],
   "source": [
    "# !pip install nltk \n",
    "# !pip install konlpy"
   ]
  },
  {
   "cell_type": "code",
   "execution_count": 33,
   "metadata": {
    "scrolled": true
   },
   "outputs": [],
   "source": [
    "# 라이브러리 불러오기\n",
    "import nltk\n",
    "# nltk.download() # 데이터 다운로드\n",
    "from konlpy.tag import Okt\n",
    "import sys\n",
    "from collections import Counter"
   ]
  },
  {
   "cell_type": "code",
   "execution_count": 2,
   "metadata": {},
   "outputs": [
    {
     "name": "stdout",
     "output_type": "stream",
     "text": [
      "[('눈', 'Noun'), ('이', 'Josa'), ('싫어하다', 'Adjective'), ('것', 'Noun'), ('을', 'Josa'), ('사랑', 'Noun'), ('하다', 'Verb'), ('것', 'Noun'), ('은', 'Josa'), ('내', 'Noun'), ('가슴', 'Noun'), ('이니', 'Josa'), (',', 'Punctuation'), ('보이다', 'Verb'), ('것', 'Noun'), ('에', 'Josa'), ('상관없다', 'Adjective'), ('기꺼이', 'Adverb'), ('사랑', 'Noun'), ('에', 'Josa'), ('빠져들다', 'Verb')]\n"
     ]
    }
   ],
   "source": [
    "# Okt 객체 생성\n",
    "okt = Okt()\n",
    "\n",
    "# 형태소 분석해보기\n",
    "malist = okt.pos(\"눈이 싫어하는 것을 사랑하는 것은 내 가슴이니, 보이는 것에 상관없이 기꺼이 사랑에 빠져든다\", norm=True, stem=True)\n",
    "print(malist)"
   ]
  },
  {
   "cell_type": "code",
   "execution_count": 3,
   "metadata": {},
   "outputs": [
    {
     "name": "stdout",
     "output_type": "stream",
     "text": [
      "[('그대', 'Noun'), ('잔인하다', 'Adjective'), ('만큼', 'Noun'), ('현명하다', 'Adjective'), (',', 'Punctuation'), ('지나치다', 'Verb'), ('경멸', 'Noun'), ('로', 'Josa'), ('내', 'Noun'), ('침묵', 'Noun'), ('하다', 'Verb'), ('인내', 'Noun'), ('를', 'Josa'), ('괴롭히다', 'Verb'), ('말기', 'Noun'), ('를', 'Josa')]\n"
     ]
    }
   ],
   "source": [
    "# 형태소 분석해보기2\n",
    "malist2 = okt.pos(\"그대 잔인한 만큼 현명하길, 지나친 경멸로 내 침묵하는 인내를 괴롭히지 말기를\", norm=True, stem=True)\n",
    "print(malist2)"
   ]
  },
  {
   "cell_type": "code",
   "execution_count": 4,
   "metadata": {},
   "outputs": [
    {
     "name": "stdout",
     "output_type": "stream",
     "text": [
      "<class 'list'>\n"
     ]
    }
   ],
   "source": [
    "print(type(malist2))"
   ]
  },
  {
   "cell_type": "code",
   "execution_count": 5,
   "metadata": {
    "scrolled": true
   },
   "outputs": [
    {
     "name": "stdout",
     "output_type": "stream",
     "text": [
      "Noun\n",
      "Josa\n",
      "Adjective\n",
      "Noun\n",
      "Josa\n",
      "Noun\n",
      "Verb\n",
      "Noun\n",
      "Josa\n",
      "Noun\n",
      "Noun\n",
      "Josa\n",
      "Punctuation\n",
      "Verb\n",
      "Noun\n",
      "Josa\n",
      "Adjective\n",
      "Adverb\n",
      "Noun\n",
      "Josa\n",
      "Verb\n",
      "['Punctuation', 'Verb', 'Adjective', 'Adverb', 'Noun', 'Josa']\n"
     ]
    }
   ],
   "source": [
    "# 문장에 포함된 형태소를 mor list에 저장\n",
    "mor = []\n",
    "for i in malist:\n",
    "    # print(type(i))\n",
    "    print(i[1])\n",
    "    mor.append(i[1])\n",
    "    \n",
    "mor\n",
    "\n",
    "# 중복 제거\n",
    "mor = list(set(mor))\n",
    "print(mor)"
   ]
  },
  {
   "cell_type": "markdown",
   "metadata": {},
   "source": [
    "## 품사별로 정리하기\n",
    "> 위에서 뽑은 형태소 분석 데이터는 list type이며, 각 값들은 tuple 형태이다. 각 값들을 형태소 군별로 분리하여 분석해본다. "
   ]
  },
  {
   "cell_type": "code",
   "execution_count": 6,
   "metadata": {},
   "outputs": [],
   "source": [
    "# 두 list 통합\n",
    "total_li = malist+malist2\n",
    "\n",
    "# 동사(를 포함한 특정 품사) 탐색하는 함수\n",
    "def find_verb(li, mor):\n",
    "    search_keyword = mor\n",
    "    mor_li=[i for i in li if search_keyword in i]\n",
    "    return mor_li"
   ]
  },
  {
   "cell_type": "code",
   "execution_count": 14,
   "metadata": {},
   "outputs": [],
   "source": [
    "# 전체 list 품사별로 분리\n",
    "mod = sys.modules[__name__]\n",
    "\n",
    "for i in mor:\n",
    "    setattr(mod, 'mor_{}'.format(i), find_verb(total_li, i))"
   ]
  },
  {
   "cell_type": "code",
   "execution_count": 15,
   "metadata": {},
   "outputs": [
    {
     "data": {
      "text/plain": [
       "[('싫어하다', 'Adjective'),\n",
       " ('상관없다', 'Adjective'),\n",
       " ('잔인하다', 'Adjective'),\n",
       " ('현명하다', 'Adjective')]"
      ]
     },
     "execution_count": 15,
     "metadata": {},
     "output_type": "execute_result"
    }
   ],
   "source": [
    "mor_Adjective "
   ]
  },
  {
   "cell_type": "code",
   "execution_count": 16,
   "metadata": {},
   "outputs": [
    {
     "data": {
      "text/plain": [
       "[('기꺼이', 'Adverb')]"
      ]
     },
     "execution_count": 16,
     "metadata": {},
     "output_type": "execute_result"
    }
   ],
   "source": [
    "mor_Adverb"
   ]
  },
  {
   "cell_type": "code",
   "execution_count": 17,
   "metadata": {},
   "outputs": [
    {
     "data": {
      "text/plain": [
       "[('이', 'Josa'),\n",
       " ('을', 'Josa'),\n",
       " ('은', 'Josa'),\n",
       " ('이니', 'Josa'),\n",
       " ('에', 'Josa'),\n",
       " ('에', 'Josa'),\n",
       " ('로', 'Josa'),\n",
       " ('를', 'Josa'),\n",
       " ('를', 'Josa')]"
      ]
     },
     "execution_count": 17,
     "metadata": {},
     "output_type": "execute_result"
    }
   ],
   "source": [
    "mor_Josa"
   ]
  },
  {
   "cell_type": "code",
   "execution_count": 18,
   "metadata": {},
   "outputs": [
    {
     "data": {
      "text/plain": [
       "[('눈', 'Noun'),\n",
       " ('것', 'Noun'),\n",
       " ('사랑', 'Noun'),\n",
       " ('것', 'Noun'),\n",
       " ('내', 'Noun'),\n",
       " ('가슴', 'Noun'),\n",
       " ('것', 'Noun'),\n",
       " ('사랑', 'Noun'),\n",
       " ('그대', 'Noun'),\n",
       " ('만큼', 'Noun'),\n",
       " ('경멸', 'Noun'),\n",
       " ('내', 'Noun'),\n",
       " ('침묵', 'Noun'),\n",
       " ('인내', 'Noun'),\n",
       " ('말기', 'Noun')]"
      ]
     },
     "execution_count": 18,
     "metadata": {},
     "output_type": "execute_result"
    }
   ],
   "source": [
    "mor_Noun"
   ]
  },
  {
   "cell_type": "code",
   "execution_count": 19,
   "metadata": {},
   "outputs": [
    {
     "data": {
      "text/plain": [
       "[('하다', 'Verb'),\n",
       " ('보이다', 'Verb'),\n",
       " ('빠져들다', 'Verb'),\n",
       " ('지나치다', 'Verb'),\n",
       " ('하다', 'Verb'),\n",
       " ('괴롭히다', 'Verb')]"
      ]
     },
     "execution_count": 19,
     "metadata": {},
     "output_type": "execute_result"
    }
   ],
   "source": [
    "mor_Verb"
   ]
  },
  {
   "cell_type": "markdown",
   "metadata": {},
   "source": [
    "## 보다 긴 문장 시험해보기\n",
    "> 위에서는 비교적 간단한 문장으로 형태소 분석을 해보았다. 이번에는 한 문단에 해당하는 글을 넣어보자."
   ]
  },
  {
   "cell_type": "code",
   "execution_count": 28,
   "metadata": {},
   "outputs": [
    {
     "data": {
      "text/plain": [
       "'비열하다 평가되는 것보다는 진짜 비열한 것이 더 낫다. 그렇지도 않은데, 그렇다며 비난받고, 우리의 생각이 아니라 타인들의 시선에 의해서 그렇게 간주되어 당연한 즐거움을 잃을 바에는. 어찌하여 타인의 그릇되고 불순한 눈들이 내 즐거운 혈기에 대해 알은체하는가? 나보다 더 저열한 이가 내 잘못에 대해 염탐하며, 내가 좋다고 생각하는 것을 그들 마음대로 나쁘다 단정짓는가? 됐다, 나는 나이니, 나를 욕하는 이들은 자신의 잘못이나 되돌아보기를. 내가 바르고 그들이 비뚤어졌을지도 모르니. 그들의 야비한 생각으로 내 행동이 평가되어서는 안 된다. 모든 사람은 악하며 그 악함으로 군림하려는 보편적인 사악함을 그들이 지니고 있는 것이 아니라면.'"
      ]
     },
     "execution_count": 28,
     "metadata": {},
     "output_type": "execute_result"
    }
   ],
   "source": [
    "# 텍스트 파일 불러오기\n",
    "with open('sonet121.txt', 'r', encoding='utf-8') as f:\n",
    "    lines = f.readline()\n",
    "    \n",
    "lines"
   ]
  },
  {
   "cell_type": "code",
   "execution_count": 29,
   "metadata": {},
   "outputs": [
    {
     "name": "stdout",
     "output_type": "stream",
     "text": [
      "[('비열하다', 'Adjective'), ('평가', 'Noun'), ('되다', 'Verb'), ('것', 'Noun'), ('보다는', 'Josa'), ('진짜', 'Noun'), ('비열하다', 'Adjective'), ('것', 'Noun'), ('이', 'Josa'), ('더', 'Noun'), ('낫다', 'Noun'), ('.', 'Punctuation'), ('그렇다', 'Adjective'), ('않다', 'Verb'), (',', 'Punctuation'), ('그렇다', 'Adjective'), ('비난', 'Noun'), ('받다', 'Verb'), (',', 'Punctuation'), ('우리', 'Noun'), ('의', 'Josa'), ('생각', 'Noun'), ('이', 'Josa'), ('아니다', 'Adjective'), ('타인', 'Noun'), ('들', 'Suffix'), ('의', 'Josa'), ('시선', 'Noun'), ('에', 'Josa'), ('의하다', 'Adjective'), ('그렇게', 'Adverb'), ('간주', 'Noun'), ('되어다', 'Verb'), ('당연하다', 'Adjective'), ('즐거움', 'Noun'), ('을', 'Josa'), ('잃다', 'Verb'), ('바', 'Noun'), ('에는', 'Josa'), ('.', 'Punctuation'), ('어찌하여', 'Noun'), ('타인', 'Noun'), ('의', 'Josa'), ('그릇되다', 'Adjective'), ('불순', 'Noun'), ('한', 'Josa'), ('눈', 'Noun'), ('들', 'Suffix'), ('이', 'Josa'), ('내', 'Noun'), ('즐겁다', 'Adjective'), ('혈기', 'Noun'), ('에', 'Josa'), ('대해', 'Noun'), ('알은체', 'Noun'), ('하다', 'Verb'), ('?', 'Punctuation'), ('나', 'Noun'), ('보다', 'Josa'), ('더', 'Noun'), ('저열', 'Noun'), ('한', 'Josa'), ('이', 'Noun'), ('가', 'Josa'), ('내', 'Noun'), ('잘못', 'Noun'), ('에', 'Josa'), ('대해', 'Noun'), ('염탐', 'Noun'), ('하다', 'Verb'), (',', 'Punctuation'), ('내', 'Noun'), ('가', 'Josa'), ('좋다', 'Adjective'), ('생각', 'Noun'), ('하다', 'Verb'), ('것', 'Noun'), ('을', 'Josa'), ('그', 'Noun'), ('들', 'Suffix'), ('마음대로', 'Noun'), ('나쁘다', 'Adjective'), ('단정', 'Noun'), ('짓다', 'Verb'), ('?', 'Punctuation'), ('돼다', 'Verb'), (',', 'Punctuation'), ('나', 'Noun'), ('는', 'Josa'), ('나이', 'Noun'), ('니', 'Josa'), (',', 'Punctuation'), ('나르다', 'Verb'), ('욕', 'Noun'), ('하다', 'Verb'), ('이', 'Noun'), ('들', 'Suffix'), ('은', 'Josa'), ('자신', 'Noun'), ('의', 'Josa'), ('잘못', 'Noun'), ('이나', 'Josa'), ('되돌아보다', 'Verb'), ('.', 'Punctuation'), ('내', 'Noun'), ('가', 'Josa'), ('바르다', 'Verb'), ('그', 'Noun'), ('들', 'Suffix'), ('이', 'Josa'), ('비뚤어지다', 'Verb'), ('모르다', 'Verb'), ('.', 'Punctuation'), ('그', 'Noun'), ('들', 'Suffix'), ('의', 'Josa'), ('야비하다', 'Adjective'), ('생각', 'Noun'), ('으로', 'Josa'), ('내', 'Noun'), ('행동', 'Noun'), ('이', 'Josa'), ('평가', 'Noun'), ('되어다', 'Verb'), ('안', 'Noun'), ('되다', 'Verb'), ('.', 'Punctuation'), ('모든', 'Noun'), ('사람', 'Noun'), ('은', 'Josa'), ('악하다', 'Adjective'), ('그', 'Noun'), ('악하다', 'Adjective'), ('군림', 'Noun'), ('하다', 'Verb'), ('보편', 'Noun'), ('적', 'Suffix'), ('인', 'Josa'), ('사악하다', 'Adjective'), ('그', 'Noun'), ('들', 'Suffix'), ('이', 'Josa'), ('지니', 'Noun'), ('고', 'Josa'), ('있다', 'Adjective'), ('것', 'Noun'), ('이', 'Josa'), ('아니다', 'Adjective'), ('.', 'Punctuation')]\n"
     ]
    }
   ],
   "source": [
    "# Okt 객체 생성\n",
    "okt = Okt()\n",
    "\n",
    "# 형태소 분석해보기\n",
    "paragraph_list = okt.pos(lines, norm=True, stem=True)\n",
    "print(paragraph_list)"
   ]
  },
  {
   "cell_type": "code",
   "execution_count": 30,
   "metadata": {},
   "outputs": [
    {
     "data": {
      "text/plain": [
       "['Punctuation', 'Verb', 'Adjective', 'Adverb', 'Noun', 'Suffix', 'Josa']"
      ]
     },
     "execution_count": 30,
     "metadata": {},
     "output_type": "execute_result"
    }
   ],
   "source": [
    "# 품사 리스트 만들기\n",
    "def make_mor_li(li):\n",
    "    mor_li=[]\n",
    "    for i in li:\n",
    "        mor_li.append(i[1])\n",
    "    mor_li = list(set(mor_li))\n",
    "    return mor_li\n",
    "\n",
    "mor_li = make_mor_li(paragraph_list)"
   ]
  },
  {
   "cell_type": "code",
   "execution_count": 37,
   "metadata": {},
   "outputs": [
    {
     "data": {
      "text/plain": [
       "[(('하다', 'Verb'), 5),\n",
       " (('되다', 'Verb'), 2),\n",
       " (('되어다', 'Verb'), 2),\n",
       " (('않다', 'Verb'), 1),\n",
       " (('받다', 'Verb'), 1),\n",
       " (('잃다', 'Verb'), 1)]"
      ]
     },
     "execution_count": 37,
     "metadata": {},
     "output_type": "execute_result"
    }
   ],
   "source": [
    "# 동사 체크\n",
    "verb = find_verb(paragraph_list, 'Verb')\n",
    "count = Counter(verb)\n",
    "count.most_common(6)"
   ]
  },
  {
   "cell_type": "code",
   "execution_count": 38,
   "metadata": {},
   "outputs": [
    {
     "data": {
      "text/plain": [
       "Counter({('비열하다', 'Adjective'): 2,\n",
       "         ('그렇다', 'Adjective'): 2,\n",
       "         ('아니다', 'Adjective'): 2,\n",
       "         ('의하다', 'Adjective'): 1,\n",
       "         ('당연하다', 'Adjective'): 1,\n",
       "         ('그릇되다', 'Adjective'): 1,\n",
       "         ('즐겁다', 'Adjective'): 1,\n",
       "         ('좋다', 'Adjective'): 1,\n",
       "         ('나쁘다', 'Adjective'): 1,\n",
       "         ('야비하다', 'Adjective'): 1,\n",
       "         ('악하다', 'Adjective'): 2,\n",
       "         ('사악하다', 'Adjective'): 1,\n",
       "         ('있다', 'Adjective'): 1})"
      ]
     },
     "execution_count": 38,
     "metadata": {},
     "output_type": "execute_result"
    }
   ],
   "source": [
    "# 형용사 체크\n",
    "adj = find_verb(paragraph_list, 'Adjective')\n",
    "count = Counter(adj)\n",
    "count"
   ]
  },
  {
   "cell_type": "code",
   "execution_count": 40,
   "metadata": {},
   "outputs": [
    {
     "data": {
      "text/plain": [
       "[(('내', 'Noun'), 5),\n",
       " (('그', 'Noun'), 5),\n",
       " (('것', 'Noun'), 4),\n",
       " (('생각', 'Noun'), 3),\n",
       " (('평가', 'Noun'), 2)]"
      ]
     },
     "execution_count": 40,
     "metadata": {},
     "output_type": "execute_result"
    }
   ],
   "source": [
    "# 명사 체크\n",
    "noun = find_verb(paragraph_list, 'Noun')\n",
    "count = Counter(noun)\n",
    "count.most_common(5)"
   ]
  },
  {
   "cell_type": "code",
   "execution_count": null,
   "metadata": {},
   "outputs": [],
   "source": []
  }
 ],
 "metadata": {
  "kernelspec": {
   "display_name": "Python 3",
   "language": "python",
   "name": "python3"
  },
  "language_info": {
   "codemirror_mode": {
    "name": "ipython",
    "version": 3
   },
   "file_extension": ".py",
   "mimetype": "text/x-python",
   "name": "python",
   "nbconvert_exporter": "python",
   "pygments_lexer": "ipython3",
   "version": "3.7.3"
  }
 },
 "nbformat": 4,
 "nbformat_minor": 2
}
