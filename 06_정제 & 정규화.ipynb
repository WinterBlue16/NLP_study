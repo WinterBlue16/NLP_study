{
 "cells": [
  {
   "cell_type": "markdown",
   "metadata": {},
   "source": [
    "# 06) 정제(Cleaning) & 정규화(Normalization)"
   ]
  },
  {
   "cell_type": "markdown",
   "metadata": {},
   "source": [
    "코퍼스에서 용도에 맞게 토큰을 분류하는 작업을 토큰화(tokenization)라고 한다. 이러한 작업 전후에는 텍스트 데이터를 정제(Cleaning) 및 정규화(Normalization)하는 일이 항상 함께한다. 그 목적은 각각 다음과 같다.\n",
    "\n",
    "- 정제 : 갖고 있는 코퍼스로부터 노이즈 데이터를 제거한다.\n",
    "- 정규화 : 표현방법이 다른 언어들을 통합시켜서 같은 단어로 만들어준다."
   ]
  },
  {
   "cell_type": "code",
   "execution_count": null,
   "metadata": {},
   "outputs": [],
   "source": [
    "import re\n",
    "text = \"I was wondering if anyone out there could enlighten me on this car.\"\n",
    "shortword = re.compile(r'\\W*\\b\\w{1,2}\\b')\n",
    "print(shortword)"
   ]
  }
 ],
 "metadata": {
  "kernelspec": {
   "display_name": "Python 3",
   "language": "python",
   "name": "python3"
  },
  "language_info": {
   "codemirror_mode": {
    "name": "ipython",
    "version": 3
   },
   "file_extension": ".py",
   "mimetype": "text/x-python",
   "name": "python",
   "nbconvert_exporter": "python",
   "pygments_lexer": "ipython3",
   "version": "3.7.3"
  }
 },
 "nbformat": 4,
 "nbformat_minor": 2
}
