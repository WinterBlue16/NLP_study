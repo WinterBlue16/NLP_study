{
 "cells": [
  {
   "cell_type": "markdown",
   "metadata": {},
   "source": [
    "# NLP_언어 판정하기\n",
    "> 이하 내용은 [파이썬을 이용한 머신러닝, 딥러닝 실전 앱 개발](https://www.aladin.co.kr/shop/wproduct.aspx?ItemId=187073338)의 4장 '자연어 처리하기'를 기반으로 한다.\n",
    "\n",
    "- 머신러닝을 활용하여 한국어, 영어, 일본어를 판정하는 모델을 만들어 본다."
   ]
  },
  {
   "cell_type": "markdown",
   "metadata": {},
   "source": [
    "## 사용하는 문자가 다른 언어 판정하기"
   ]
  },
  {
   "cell_type": "code",
   "execution_count": 1,
   "metadata": {},
   "outputs": [],
   "source": [
    "# 라이브러리 불러오기\n",
    "import numpy as np\n",
    "from sklearn.naive_bayes import GaussianNB\n",
    "from sklearn.metrics import accuracy_score"
   ]
  },
  {
   "cell_type": "code",
   "execution_count": 6,
   "metadata": {},
   "outputs": [
    {
     "name": "stdout",
     "output_type": "stream",
     "text": [
      "['ko' 'ja' 'en' 'cn']\n",
      "정답률 =  1.0\n"
     ]
    }
   ],
   "source": [
    "# Unicode 코드 포인트로 출현 빈도 판정\n",
    "def count_codePoint(str):\n",
    "    # Unicode 코드 포인트를 저장할 배열 준비\n",
    "    counter = np.zeros(65535)\n",
    "    \n",
    "    for i in range(len(str)):\n",
    "        # 각 문자를 Unicode 코드 포인트로 변환하기\n",
    "        code_point = ord(str[i])\n",
    "        if code_point > 65535:\n",
    "            continue\n",
    "            \n",
    "        # 출연 횟수 세기\n",
    "        counter[code_point] += 1\n",
    "        \n",
    "    # 각 요소를 문자 수로 나눠 정규화하기\n",
    "    counter = counter / len(str)\n",
    "    return counter\n",
    "\n",
    "# 학습 전용 데이터 준비\n",
    "ko_str = '안녕하세요. 만나서 반갑습니다.'\n",
    "ja_str = 'はじめまして。どうぞよろしくお願いいたします。'\n",
    "en_str = 'Hello. Nice to see you.'\n",
    "cn_str = '您好，认识你很高兴。'\n",
    "\n",
    "x_train = [count_codePoint(ko_str), count_codePoint(ja_str), count_codePoint(en_str), count_codePoint(cn_str)]\n",
    "y_train = ['ko', 'ja', 'en', 'cn']\n",
    "\n",
    "\n",
    "# 학습하기\n",
    "clf = GaussianNB()\n",
    "clf.fit(x_train, y_train)\n",
    "\n",
    "\n",
    "# 평가 전용 데이터 준비하기\n",
    "ko_test_str = '장난하냐?'\n",
    "ja_test_str = 'ふざけているのか？'\n",
    "en_test_str = 'Are you fucking kidding me?'\n",
    "cn_test_str = '你闹我吗？'\n",
    "\n",
    "x_test = [count_codePoint(ko_test_str), count_codePoint(ja_test_str), count_codePoint(en_test_str), count_codePoint(cn_test_str)]\n",
    "y_test = ['ko', 'ja', 'en', 'cn']\n",
    "\n",
    "\n",
    "# 평가하기\n",
    "y_pred = clf.predict(x_test)\n",
    "print(y_pred)\n",
    "print('정답률 = ', accuracy_score(y_test, y_pred))\n"
   ]
  },
  {
   "cell_type": "markdown",
   "metadata": {},
   "source": [
    "## 사용하는 문자가 같은 언어 판정하기"
   ]
  },
  {
   "cell_type": "code",
   "execution_count": 7,
   "metadata": {},
   "outputs": [],
   "source": [
    "# 라이브러리 추가로 불러오기\n",
    "import glob"
   ]
  },
  {
   "cell_type": "code",
   "execution_count": 12,
   "metadata": {},
   "outputs": [
    {
     "name": "stdout",
     "output_type": "stream",
     "text": [
      "['de' 'en' 'es']\n",
      "정답률 =  1.0\n"
     ]
    }
   ],
   "source": [
    "# Unicode의 코드 포인트로 출현 빈도 판정하기\n",
    "def count_codePoint(str):\n",
    "    # Unicode 코드 포인트를 저장할 배열 준비하기\n",
    "    counter = np.zeros(65535)\n",
    "    \n",
    "    for i in range(len(str)):\n",
    "        # 각 문자를 Unicode 코드 포인트로 변환하기\n",
    "        code_point = ord(str[i])\n",
    "        if code_point > 65535:\n",
    "            continue\n",
    "        # 출연 횟수 세기\n",
    "        counter[code_point] += 1\n",
    "        \n",
    "    # 각 요소를 문자 수로 나눠 정규화하기\n",
    "    counter = counter / len(str)\n",
    "    return counter\n",
    "\n",
    "\n",
    "# 학습 전용 데이터 준비하기\n",
    "index = 0\n",
    "x_train = []\n",
    "y_train = []\n",
    "for file in glob.glob('./train/*.txt'):\n",
    "    # 언어 정보를 추출하고 레이블로 지정하기\n",
    "    y_train.append(file[8:10])\n",
    "    \n",
    "    # 파일 내부의 문자열을 모두 추출한 뒤 빈도 배열로 변환한 뒤 입력 데이터로 사용\n",
    "    file_str = ''\n",
    "    for line in open(file, 'r', encoding='utf-8'): # encoding을 추가해주지 않을 경우 unicodedecodeerror가 발생한다!\n",
    "        file_str = file_str + line\n",
    "    x_train.append(count_codePoint(file_str))\n",
    "    \n",
    "# 학습하기\n",
    "clf = GaussianNB()\n",
    "clf.fit(x_train, y_train)\n",
    "\n",
    "\n",
    "# 평가 데이터 준비하기\n",
    "index = 0\n",
    "x_test = []\n",
    "y_test = []\n",
    "for file in glob.glob('./test/*.txt'):\n",
    "    # 언어 정보를 추출하고 레이블로 지정하기\n",
    "    y_test.append(file[7:9])\n",
    "    \n",
    "    # 파일 내부의 문자열을 모두 추출한 후 빈도 배열로 변환한 뒤 입력 데이터로 사용\n",
    "    file_str = ''\n",
    "    for line in open(file, 'r', encoding='utf-8'):\n",
    "        file_str = file_str + line\n",
    "    x_test.append(count_codePoint(file_str))\n",
    "    \n",
    "# 평가하기\n",
    "y_pred = clf.predict(x_test)\n",
    "print(y_pred)\n",
    "print('정답률 = ', accuracy_score(y_test, y_pred))"
   ]
  },
  {
   "cell_type": "code",
   "execution_count": null,
   "metadata": {},
   "outputs": [],
   "source": []
  }
 ],
 "metadata": {
  "kernelspec": {
   "display_name": "Python 3",
   "language": "python",
   "name": "python3"
  },
  "language_info": {
   "codemirror_mode": {
    "name": "ipython",
    "version": 3
   },
   "file_extension": ".py",
   "mimetype": "text/x-python",
   "name": "python",
   "nbconvert_exporter": "python",
   "pygments_lexer": "ipython3",
   "version": "3.7.3"
  }
 },
 "nbformat": 4,
 "nbformat_minor": 2
}
